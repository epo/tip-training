{
 "cells": [
  {
   "cell_type": "markdown",
   "id": "efce1111-9389-4eb7-ab98-34aae228c072",
   "metadata": {},
   "source": [
    "# The Patstat library - Lesson 1\n",
    "This notebook is an introduction to the Patstat library in TIP. The European Patent Office's (EPO) PATSTAT (Patent Statistical Database) is a comprehensive resource designed for advanced statistical analysis of patent data. Launched in 2006, PATSTAT consolidates data from patent offices worldwide, facilitating in-depth research and trend analysis in the field of intellectual property. It includes detailed information on patent applications, applicants, inventors, and legal events, enabling users to perform complex queries and extract valuable insights into patenting activities and innovation trends. PATSTAT is widely used by policymakers, researchers, and businesses to inform decision-making and strategy development in technology and innovation sectors.\n",
    "\n",
    "# The PATSTAT Data Structure and Key Tables\n",
    "\n",
    "PATSTAT is organized into a relational database structure. This design facilitates complex statistical analysis and research, structured across multiple interrelated tables, each containing specific categories of data. The data structure of patstat is rather complex, with two databases containing a multitude of interrelated tables. Below you have a list of some of the main tables that we will be using in this course. \n",
    "\n",
    "## Key Tables in PATSTAT\n",
    "\n",
    "- **tls201_appln**: Contains basic information about patent applications, including application numbers, filing dates, and types of patents.\n",
    "- **tls206_person**: Stores details about individuals and entities involved in patent applications, such as inventors and applicants, including their names and country codes.\n",
    "- **tls207_pers_appln**: Acts as a link between applications and individuals, indicating which persons are associated with which applications.\n",
    "- **tls209_appln_ipc**: Lists the International Patent Classification (IPC) codes assigned to applications, crucial for identifying the technical field of the inventions.\n",
    "- **tls224_appln_cpc**: Contains Cooperative Patent Classification (CPC) codes, another classification system used to categorize patents.\n",
    "\n",
    "This relational structure allows users to perform detailed queries and analyses. For instance, an application in the **tls201_appln** table can be linked to its inventors in the **tls207_pers_appln** and **tls206_person** tables, and to its technical classifications in the **tls209_appln_ipc** and **tls224_appln_cpc** tables. This setup enables comprehensive integration of patent information, facilitating analyses such as tracking the innovation trends of specific companies, studying the geographical distribution of inventors, and examining the technological focus areas of patent filings.\n",
    "\n",
    "## Databases Accessible in TIP\n",
    "\n",
    "PATSTAT in TIP has access to two primary databases.\n",
    "\n",
    "1. **PATSTAT Global**: This database is a comprehensive collection of worldwide patent data, ideal for broad statistical analysis and research. It includes detailed information on patent applications, filings, classifications, and the entities involved. See the full documentation [here](https://link.epo.org/web/searching-for-patents/business/patstat/data-catalog-patsat-global-en.pdf).\n",
    "\n",
    "3. **PATSTAT EP Register**: This database specifically focuses on the European Patent Register, providing detailed statistical analysis of EP applications and their status. It includes data on the legal status of patents, procedural details, and administrative events. See the full documentation [here](https://link.epo.org/web/searching-for-patents/business/patstat/data-catalog-patsat-ep-register-en.pdf).\n",
    "\n",
    "These databases support various joins and relationships between tables through primary and foreign keys, enabling users to derive detailed insights and conduct in-depth patent analysis efficiently.\n",
    "\n"
   ]
  },
  {
   "cell_type": "markdown",
   "id": "5780ca67-e351-4d8f-ac19-b5b16d3a57ab",
   "metadata": {},
   "source": [
    "## Our first query with Object Relational mapping\n",
    "The Patstat library in TIP allows you to access the Patstat databases with Object-Relational Mapping (ORM).  In simple terms, ORM allows you to interact with a database using Python objects instead of writing raw SQL queries. ORM frameworks map database tables to Python classes, and rows in those tables to instances of those classes.\n",
    "\n",
    "By using ORM, we abstract the underlying SQL queries, making the code cleaner, more maintainable, and easier to understand. This is particularly advantageous for complex queries involving multiple joins and filters, which are common when working with patent databases."
   ]
  },
  {
   "cell_type": "markdown",
   "id": "ea600367-30ec-47bc-95a0-37a40fc952d1",
   "metadata": {},
   "source": [
    "### Step 1: Setup PATSTAT Client\n",
    "To begin, you need to initialize the PATSTAT client. This client will be used to interact with the PATSTAT database."
   ]
  },
  {
   "cell_type": "code",
   "execution_count": 2,
   "id": "61e94d70-1163-417c-b202-e52872a4e077",
   "metadata": {},
   "outputs": [
    {
     "name": "stdout",
     "output_type": "stream",
     "text": [
      "<epo.tipdata.patstat.client.PatstatClient object at 0x78d429f7d110>\n"
     ]
    }
   ],
   "source": [
    "from epo.tipdata.patstat import PatstatClient\n",
    "\n",
    "# Initialize the PATSTAT client\n",
    "patstat = PatstatClient()\n",
    "\n",
    "print (patstat)"
   ]
  },
  {
   "cell_type": "markdown",
   "id": "26dbacd5-51bf-4371-86c7-0a08854aaea4",
   "metadata": {},
   "source": [
    "### Step 2: Instantiate ORM access\n",
    "The Patstat library comes with an `orm()` method that allows us to access the databases, as described above. "
   ]
  },
  {
   "cell_type": "code",
   "execution_count": 4,
   "id": "8b8af450-0046-4a32-953f-c28f541efca7",
   "metadata": {},
   "outputs": [
    {
     "name": "stdout",
     "output_type": "stream",
     "text": [
      "<sqlalchemy.orm.session.Session object at 0x78d42952dd90>\n"
     ]
    }
   ],
   "source": [
    "# Access ORM\n",
    "db = patstat.orm()\n",
    "\n",
    "print (db)"
   ]
  },
  {
   "cell_type": "markdown",
   "id": "616043fd-84f4-41be-8187-e3fb1b83b36e",
   "metadata": {},
   "source": [
    "### Step 3: Import Necessary Models\n",
    "You need to import the necessary tables (models) that you want to query. For this example, we'll use just one table: `TLS201_APPLN`. "
   ]
  },
  {
   "cell_type": "code",
   "execution_count": 5,
   "id": "decc9419-68b2-4196-aa03-8c39928a28bf",
   "metadata": {},
   "outputs": [],
   "source": [
    "from epo.tipdata.patstat.database.models import TLS201_APPLN\n"
   ]
  },
  {
   "cell_type": "markdown",
   "id": "a3ab1d6b-fcab-40e9-9387-3ca1e87fe2e2",
   "metadata": {},
   "source": [
    "### Step 4: launch the query\n",
    "For our first query we want to get all the EP applications that were filed in 2010 and have been granted. \n",
    "\n",
    "We are going to select specific fields `appln_id`, `appln_auth`, `appln_nr`, `appln_kind`, and `appln_filing_date` from the `TLS201_APPLN table` This is equivalent to a `SELECT` satement in SQL, and we do this with the `query()` method. \n",
    "\n",
    "The filter method adds conditions to the query, retrieving only records where the application filing year is 2010, the application authority is 'EP' (European Patent Office), and the application is granted (granted is 'Y'). "
   ]
  },
  {
   "cell_type": "code",
   "execution_count": 6,
   "id": "fbdfaf7a-5bc8-4257-88e1-3f337774c1c9",
   "metadata": {},
   "outputs": [
    {
     "data": {
      "text/html": [
       "<div>\n",
       "<style scoped>\n",
       "    .dataframe tbody tr th:only-of-type {\n",
       "        vertical-align: middle;\n",
       "    }\n",
       "\n",
       "    .dataframe tbody tr th {\n",
       "        vertical-align: top;\n",
       "    }\n",
       "\n",
       "    .dataframe thead th {\n",
       "        text-align: right;\n",
       "    }\n",
       "</style>\n",
       "<table border=\"1\" class=\"dataframe\">\n",
       "  <thead>\n",
       "    <tr style=\"text-align: right;\">\n",
       "      <th></th>\n",
       "      <th>appln_id</th>\n",
       "      <th>appln_auth</th>\n",
       "      <th>appln_nr</th>\n",
       "      <th>appln_kind</th>\n",
       "      <th>appln_filing_date</th>\n",
       "    </tr>\n",
       "  </thead>\n",
       "  <tbody>\n",
       "    <tr>\n",
       "      <th>0</th>\n",
       "      <td>274875721</td>\n",
       "      <td>EP</td>\n",
       "      <td>10002082</td>\n",
       "      <td>A</td>\n",
       "      <td>2010-03-01</td>\n",
       "    </tr>\n",
       "    <tr>\n",
       "      <th>1</th>\n",
       "      <td>275066717</td>\n",
       "      <td>EP</td>\n",
       "      <td>10002369</td>\n",
       "      <td>A</td>\n",
       "      <td>2010-03-08</td>\n",
       "    </tr>\n",
       "    <tr>\n",
       "      <th>2</th>\n",
       "      <td>275089809</td>\n",
       "      <td>EP</td>\n",
       "      <td>10002521</td>\n",
       "      <td>A</td>\n",
       "      <td>2010-03-10</td>\n",
       "    </tr>\n",
       "    <tr>\n",
       "      <th>3</th>\n",
       "      <td>328601175</td>\n",
       "      <td>EP</td>\n",
       "      <td>10014042</td>\n",
       "      <td>A</td>\n",
       "      <td>2010-10-27</td>\n",
       "    </tr>\n",
       "    <tr>\n",
       "      <th>4</th>\n",
       "      <td>274197226</td>\n",
       "      <td>EP</td>\n",
       "      <td>10150900</td>\n",
       "      <td>A</td>\n",
       "      <td>2010-01-15</td>\n",
       "    </tr>\n",
       "  </tbody>\n",
       "</table>\n",
       "</div>"
      ],
      "text/plain": [
       "    appln_id appln_auth  appln_nr appln_kind appln_filing_date\n",
       "0  274875721         EP  10002082         A         2010-03-01\n",
       "1  275066717         EP  10002369         A         2010-03-08\n",
       "2  275089809         EP  10002521         A         2010-03-10\n",
       "3  328601175         EP  10014042         A         2010-10-27\n",
       "4  274197226         EP  10150900         A         2010-01-15"
      ]
     },
     "execution_count": 6,
     "metadata": {},
     "output_type": "execute_result"
    }
   ],
   "source": [
    "# Define the query\n",
    "q = db.query(\n",
    "    TLS201_APPLN.appln_id,\n",
    "    TLS201_APPLN.appln_auth,\n",
    "    TLS201_APPLN.appln_nr,\n",
    "    TLS201_APPLN.appln_kind,\n",
    "    TLS201_APPLN.appln_filing_date\n",
    ").filter(\n",
    "    TLS201_APPLN.appln_filing_year == 2010,\n",
    "    TLS201_APPLN.appln_auth == 'EP',\n",
    "    TLS201_APPLN.granted == 'Y'\n",
    ")\n",
    "\n",
    "# Execute the query and convert the result to a DataFrame\n",
    "result_df = patstat.df(q)\n",
    "\n",
    "# Display the results\n",
    "result_df.head()\n"
   ]
  },
  {
   "cell_type": "code",
   "execution_count": null,
   "id": "55a89d8a-d287-43ca-997c-5d57569f3874",
   "metadata": {},
   "outputs": [],
   "source": []
  }
 ],
 "metadata": {
  "kernelspec": {
   "display_name": "Python 3 (ipykernel)",
   "language": "python",
   "name": "python3"
  },
  "language_info": {
   "codemirror_mode": {
    "name": "ipython",
    "version": 3
   },
   "file_extension": ".py",
   "mimetype": "text/x-python",
   "name": "python",
   "nbconvert_exporter": "python",
   "pygments_lexer": "ipython3",
   "version": "3.11.8"
  }
 },
 "nbformat": 4,
 "nbformat_minor": 5
}
