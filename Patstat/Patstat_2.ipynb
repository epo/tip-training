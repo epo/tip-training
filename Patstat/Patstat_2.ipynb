{
 "cells": [
  {
   "cell_type": "markdown",
   "id": "f978532e-fd17-4a39-a56b-648046a5676b",
   "metadata": {},
   "source": [
    "## The Patstat library - Lesson 2 \n",
    "This notebook is an introduction to the Patstat library in TIP. "
   ]
  },
  {
   "cell_type": "markdown",
   "id": "ea600367-30ec-47bc-95a0-37a40fc952d1",
   "metadata": {},
   "source": [
    "## The applications table\n"
   ]
  },
  {
   "cell_type": "code",
   "execution_count": 1,
   "id": "61e94d70-1163-417c-b202-e52872a4e077",
   "metadata": {},
   "outputs": [],
   "source": [
    "from epo.tipdata.patstat import PatstatClient\n",
    "\n",
    "# Initialize the PATSTAT client\n",
    "patstat = PatstatClient()\n",
    "\n",
    "# Access ORM\n",
    "db = patstat.orm()\n"
   ]
  },
  {
   "cell_type": "markdown",
   "id": "202d9b28-c176-4601-a8ff-14d44556c5bf",
   "metadata": {},
   "source": [
    "### Viewing all the fields with SQL\n",
    "You can also pass SQL queries to the Patstat library, with the same method `sql_query` that you can use with the EPAB library. In the example below we query Patstat using SQL, passing the same query we just did above: granted EP patents filed in 2010"
   ]
  },
  {
   "cell_type": "code",
   "execution_count": 2,
   "id": "55a89d8a-d287-43ca-997c-5d57569f3874",
   "metadata": {},
   "outputs": [
    {
     "data": {
      "text/plain": [
       "[{'appln_id': 274875721,\n",
       "  'appln_auth': 'EP',\n",
       "  'appln_nr': '10002082',\n",
       "  'appln_kind': 'A ',\n",
       "  'appln_filing_date': datetime.date(2010, 3, 1),\n",
       "  'appln_filing_year': 2010,\n",
       "  'appln_nr_epodoc': 'EP20100002082',\n",
       "  'appln_nr_original': '10002082',\n",
       "  'ipr_type': 'PI',\n",
       "  'receiving_office': '  ',\n",
       "  'internat_appln_id': 0,\n",
       "  'int_phase': 'N',\n",
       "  'reg_phase': 'Y',\n",
       "  'nat_phase': 'N',\n",
       "  'earliest_filing_date': datetime.date(2009, 3, 17),\n",
       "  'earliest_filing_year': 2009,\n",
       "  'earliest_filing_id': 328045208,\n",
       "  'earliest_publn_date': datetime.date(2010, 9, 22),\n",
       "  'earliest_publn_year': 2010,\n",
       "  'earliest_pat_publn_id': 323249016,\n",
       "  'granted': 'Y',\n",
       "  'docdb_family_id': 42340847,\n",
       "  'inpadoc_family_id': 274875721,\n",
       "  'docdb_family_size': 4,\n",
       "  'nb_citing_docdb_fam': 7,\n",
       "  'nb_applicants': 1,\n",
       "  'nb_inventors': 3}]"
      ]
     },
     "execution_count": 2,
     "metadata": {},
     "output_type": "execute_result"
    }
   ],
   "source": [
    "res = patstat.sql_query(\"\"\"\n",
    "SELECT\n",
    "    *\n",
    "FROM\n",
    "    tls201_appln\n",
    "WHERE\n",
    "    appln_filing_year = 2010\n",
    "    AND appln_auth = 'EP'\n",
    "    AND granted = 'Y';\n",
    "\n",
    "\"\"\")\n",
    "## printing the first 5 results to compare with the dataframe \n",
    "res[0:1]"
   ]
  },
  {
   "cell_type": "code",
   "execution_count": null,
   "id": "fc603c26-91ed-43f7-b799-2e966d788676",
   "metadata": {},
   "outputs": [],
   "source": []
  }
 ],
 "metadata": {
  "kernelspec": {
   "display_name": "Python 3 (ipykernel)",
   "language": "python",
   "name": "python3"
  },
  "language_info": {
   "codemirror_mode": {
    "name": "ipython",
    "version": 3
   },
   "file_extension": ".py",
   "mimetype": "text/x-python",
   "name": "python",
   "nbconvert_exporter": "python",
   "pygments_lexer": "ipython3",
   "version": "3.11.8"
  }
 },
 "nbformat": 4,
 "nbformat_minor": 5
}
