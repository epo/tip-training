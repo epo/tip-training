{
 "cells": [
  {
   "cell_type": "markdown",
   "id": "755d5f4f-7c9c-4d7a-ad99-0b27f6ad2ed8",
   "metadata": {},
   "source": [
    "# The EP full-text library - Lesson 2\n",
    "This notebook expands on lesson 1 to dive into more advanced concepts of EPAB, the implementation in TIP of the EP full-text library. We will introduce querying by full text fields, divisionals and parents, and search report fields. As we did in the first notebook, we first create an instance of the EPAB library. Remember that by default we are getting access to a test database"
   ]
  },
  {
   "cell_type": "code",
   "execution_count": 3,
   "id": "1274c1e9-de67-4ebc-9e40-4f163702696c",
   "metadata": {},
   "outputs": [],
   "source": [
    "# Importing the EPAB client\n",
    "from epo.tipdata.epab import EPABClient\n",
    "\n",
    "# creating an instance of the EPAB client with the production database\n",
    "epab = EPABClient(env='PROD')\n"
   ]
  },
  {
   "cell_type": "markdown",
   "id": "1a74c20f-8021-4ddf-8518-6955e7d4067d",
   "metadata": {},
   "source": [
    "## Querying by full text fields\n",
    "Much like the [EP full-text search](https://www.epo.org/en/searching-for-patents/technical/ep-full-text), one of the most powerful features of the EPAB library is that it gives you access to the description, claims, title and abstract of the publications within the EPAB database. "
   ]
  },
  {
   "cell_type": "markdown",
   "id": "78ffbb3d-ead3-4fa5-8f69-b70078744d9a",
   "metadata": {},
   "source": [
    "### Querying by the title\n",
    "You can search for applications containing one or more terms in the title. When performing a first search for patent publications of a given technological concept, it is generally a good approach to search in the title, since when a publication contains the search term in the title it is likely that it is a good match for your search query. If you followed lesson 1, you probably can guess nomenclature of the search method: `query_title`."
   ]
  },
  {
   "cell_type": "code",
   "execution_count": 4,
   "id": "27a9dcee-a825-4429-8790-39c2553a1dda",
   "metadata": {},
   "outputs": [
    {
     "data": {
      "text/plain": [
       "[{'title': {'de': 'UNTERDRÜCKUNG DER COVID-19-REPLIKATION DURCH COVID-19-EINTRITTSHEMMER',\n",
       "   'en': 'SUPPRESSION OF COVID-19 REPLICATION BY COVID-19 ENTRY INHIBITORS',\n",
       "   'fr': \"SUPPRESSION DE LA RÉPLICATION DE COVID-19 PAR DES INHIBITEURS D'ENTRÉE DE COVID-19\"}},\n",
       " {'title': {'de': 'VERWENDUNG VON MASITINIB ZUR BEHANDLUNG VON CORONAVIRUS-KRANKHEIT 2019 (COVID-19)',\n",
       "   'en': 'USE OF MASITINIB FOR THE TREATMENT OF CORONAVIRUS DISEASE 2019 (COVID-19)',\n",
       "   'fr': 'UTILISATION DE MASITINIB POUR LE TRAITEMENT DE LA MALADIE À CORONAVIRUS 2019 (COVID-19)'}},\n",
       " {'title': {'de': '2-DESOXY-D-GLUCOSE ZUR VORBEUGUNG UND BEHANDLUNG EINER VIRUSERKRANKUNG, INSBESONDERE VON COVID-19',\n",
       "   'en': '2-DEOXY-D-GLUCOSE FOR PREVENTION AND TREATMENT OF A VIRAL DISEASE, IN PARTICULAR OF COVID-19',\n",
       "   'fr': \"2-DÉSOXY-D-GLUCOSE DESTINÉ À LA PRÉVENTION ET AU TRAITEMENT D'UNE MALADIE VIRALE, EN PARTICULIER DE LA COVID-19\"}},\n",
       " {'title': {'de': 'LÖSLICHES ACE2 ZUR BEHANDLUNG VON COVID-19',\n",
       "   'en': 'SOLUBLE ACE2 FOR TREATMENT OF COVID-19',\n",
       "   'fr': 'ACE2 SOLUBLE POUR LE TRAITEMENT DE LA COVID-19'}},\n",
       " {'title': {'de': 'VERWENDUNG VON VITAMIN K ZUR VORBEUGUNG ODER BEKÄMPFUNG DER COVID-19-KRANKHEIT UND DIAGNOSTISCHER TEST ZUR SCHÄTZUNG DES RISIKOS DER ENTWICKLUNG EINER SCHWEREN KRANKHEIT ODER STERBLICHKEIT DURCH COVID-19',\n",
       "   'en': 'USE OF VITAMIN K IN PREVENTING OR COUNTERACTING COVID-19 DISEASE AND DIAGNOSTIC TEST TO ESTIMATE THE RISK OF DEVELOPING SEVERE DISEASE OR MORTALITY BY COVID-19',\n",
       "   'fr': 'UTILISATION DE LA VITAMINE K DANS LA PRÉVENTION OU LA LUTTE CONTRE UNE MALADIE COVID-19 ET TEST DE DIAGNOSTIC POUR ESTIMER LE RISQUE DE DÉVELOPPER UNE MALADIE GRAVE OU DE MORTALITÉ PAR LA COVID-19'}}]"
      ]
     },
     "execution_count": 4,
     "metadata": {},
     "output_type": "execute_result"
    }
   ],
   "source": [
    "# querying by the title of the publication with the word 'covid'\n",
    "q = epab.query_title('covid')\n",
    "q.get_results(\"title\", limit=5, output_type='list')\n"
   ]
  },
  {
   "cell_type": "markdown",
   "id": "b1738655-896d-41da-98af-8a124ec57061",
   "metadata": {},
   "source": [
    "#### Understanding fulltext languages\n",
    "You can see in the result that the title field contains a dictionary with three titles. It is very important, when working with fulltext, to take into consideration that the EPO publishes the fulltext fields in the three official languages: German, English, and French.\n",
    "\n",
    "When you search for a term in a fulltext field, by default you will search in all three languages. This can be problematic. A good example of a search query that would yield different results in English and German is the word \"Gift.\"\n",
    "\n",
    "In English, \"gift\" refers to a present or something given willingly to someone without payment. However, in German, \"Gift\" means \"poison.\" You can change this by specifying one or more of the official languages with the strings `EN`, `DE` and `FR`."
   ]
  },
  {
   "cell_type": "code",
   "execution_count": 5,
   "id": "d37ffa92-64bd-474d-94e4-0de010c42acc",
   "metadata": {},
   "outputs": [
    {
     "data": {
      "text/html": [
       "<div>\n",
       "<style scoped>\n",
       "    .dataframe tbody tr th:only-of-type {\n",
       "        vertical-align: middle;\n",
       "    }\n",
       "\n",
       "    .dataframe tbody tr th {\n",
       "        vertical-align: top;\n",
       "    }\n",
       "\n",
       "    .dataframe thead th {\n",
       "        text-align: right;\n",
       "    }\n",
       "</style>\n",
       "<table border=\"1\" class=\"dataframe\">\n",
       "  <thead>\n",
       "    <tr style=\"text-align: right;\">\n",
       "      <th></th>\n",
       "      <th>title.de</th>\n",
       "      <th>title.en</th>\n",
       "      <th>title.fr</th>\n",
       "    </tr>\n",
       "  </thead>\n",
       "  <tbody>\n",
       "    <tr>\n",
       "      <th>0</th>\n",
       "      <td>VERFAHREN UND SYSTEM UM ELEKTRONISCH EIN ONLIN...</td>\n",
       "      <td>METHODS AND SYSTEMS FOR ELECTRONICALLY ACCEPTI...</td>\n",
       "      <td>PROCEDES ET SYSTEMES POUR ACCEPTER ET ECHANGER...</td>\n",
       "    </tr>\n",
       "    <tr>\n",
       "      <th>1</th>\n",
       "      <td>SYSTEM UND VERFAHREN ZUM SCHENKEN VON VIRTUELL...</td>\n",
       "      <td>SYSTEM AND METHOD FOR FACILITATING GIFTING OF ...</td>\n",
       "      <td>SYSTÈME ET PROCÉDÉ POUR FACILITER LE DON D'ÉLÉ...</td>\n",
       "    </tr>\n",
       "    <tr>\n",
       "      <th>2</th>\n",
       "      <td>Geschenkschachtel</td>\n",
       "      <td>Box for gift objects</td>\n",
       "      <td>Boîte à cadeaux</td>\n",
       "    </tr>\n",
       "    <tr>\n",
       "      <th>3</th>\n",
       "      <td>Behälter für Geschenke</td>\n",
       "      <td>A container for gifts</td>\n",
       "      <td>Récipient pour cadeaux</td>\n",
       "    </tr>\n",
       "    <tr>\n",
       "      <th>4</th>\n",
       "      <td>GESCHENKKARTONBEHÄLTER</td>\n",
       "      <td>GIFT BOX CONTAINER</td>\n",
       "      <td>PAQUET-CADEAU</td>\n",
       "    </tr>\n",
       "  </tbody>\n",
       "</table>\n",
       "</div>"
      ],
      "text/plain": [
       "                                            title.de  \\\n",
       "0  VERFAHREN UND SYSTEM UM ELEKTRONISCH EIN ONLIN...   \n",
       "1  SYSTEM UND VERFAHREN ZUM SCHENKEN VON VIRTUELL...   \n",
       "2                                  Geschenkschachtel   \n",
       "3                             Behälter für Geschenke   \n",
       "4                             GESCHENKKARTONBEHÄLTER   \n",
       "\n",
       "                                            title.en  \\\n",
       "0  METHODS AND SYSTEMS FOR ELECTRONICALLY ACCEPTI...   \n",
       "1  SYSTEM AND METHOD FOR FACILITATING GIFTING OF ...   \n",
       "2                               Box for gift objects   \n",
       "3                              A container for gifts   \n",
       "4                                 GIFT BOX CONTAINER   \n",
       "\n",
       "                                            title.fr  \n",
       "0  PROCEDES ET SYSTEMES POUR ACCEPTER ET ECHANGER...  \n",
       "1  SYSTÈME ET PROCÉDÉ POUR FACILITER LE DON D'ÉLÉ...  \n",
       "2                                    Boîte à cadeaux  \n",
       "3                             Récipient pour cadeaux  \n",
       "4                                      PAQUET-CADEAU  "
      ]
     },
     "execution_count": 5,
     "metadata": {},
     "output_type": "execute_result"
    }
   ],
   "source": [
    "# searching for publications with the word GIFT only in the English title\n",
    "q = epab.query_title('gift', language=\"EN\")\n",
    "q.get_results(\"title\", limit=5, )"
   ]
  },
  {
   "cell_type": "markdown",
   "id": "74a814b2-6e54-4ba0-b7bf-437c8cd4fcf4",
   "metadata": {},
   "source": [
    "#### Refresher of query combination\n",
    "We saw in lesson 1 that we can combine queries to create more complex queries. Let's see if there are any publications that contain the word gift in both the German and English titles. "
   ]
  },
  {
   "cell_type": "code",
   "execution_count": 6,
   "id": "48d02dc4-718c-45f7-8ee6-79efae8599e6",
   "metadata": {},
   "outputs": [
    {
     "name": "stdout",
     "output_type": "stream",
     "text": [
      "publications with the word Gift in German 1520 publications\n",
      "Poisionus gifts found: 0 publications\n"
     ]
    }
   ],
   "source": [
    "# we get a second query with publications mentioning poison, in German\n",
    "r = epab.query_title('gift', language=\"DE\")\n",
    "print (f'publications with the word Gift in German', r)\n",
    "\n",
    "#combining the two queries\n",
    "s = q & r\n",
    "\n",
    "print (f'Poisionus gifts found:', s)"
   ]
  },
  {
   "cell_type": "markdown",
   "id": "e5169c66-0e04-400b-a19d-9ab53c542bcd",
   "metadata": {},
   "source": [
    "### Case sensitivity\n",
    "You have seen that we are querying in lowercase and the titles are displayed in all uppercase. It will come at no surprise that the search for full text terms is by default case insensitive. This can be overriden with `ignore_case=False`. Below we perform two queries with and without this parameter, to see the different results we get. "
   ]
  },
  {
   "cell_type": "code",
   "execution_count": 7,
   "id": "3cd2e3ea-1a26-4ec4-9091-63807559ee29",
   "metadata": {},
   "outputs": [
    {
     "name": "stdout",
     "output_type": "stream",
     "text": [
      "Publications with the word gift in any combination of lower and upper case 173 publications\n"
     ]
    },
    {
     "data": {
      "text/html": [
       "<div>\n",
       "<style scoped>\n",
       "    .dataframe tbody tr th:only-of-type {\n",
       "        vertical-align: middle;\n",
       "    }\n",
       "\n",
       "    .dataframe tbody tr th {\n",
       "        vertical-align: top;\n",
       "    }\n",
       "\n",
       "    .dataframe thead th {\n",
       "        text-align: right;\n",
       "    }\n",
       "</style>\n",
       "<table border=\"1\" class=\"dataframe\">\n",
       "  <thead>\n",
       "    <tr style=\"text-align: right;\">\n",
       "      <th></th>\n",
       "      <th>title.de</th>\n",
       "      <th>title.en</th>\n",
       "      <th>title.fr</th>\n",
       "    </tr>\n",
       "  </thead>\n",
       "  <tbody>\n",
       "    <tr>\n",
       "      <th>0</th>\n",
       "      <td>VERFAHREN UND SYSTEM UM ELEKTRONISCH EIN ONLIN...</td>\n",
       "      <td>METHODS AND SYSTEMS FOR ELECTRONICALLY ACCEPTI...</td>\n",
       "      <td>PROCEDES ET SYSTEMES POUR ACCEPTER ET ECHANGER...</td>\n",
       "    </tr>\n",
       "    <tr>\n",
       "      <th>1</th>\n",
       "      <td>SYSTEM UND VERFAHREN ZUM SCHENKEN VON VIRTUELL...</td>\n",
       "      <td>SYSTEM AND METHOD FOR FACILITATING GIFTING OF ...</td>\n",
       "      <td>SYSTÈME ET PROCÉDÉ POUR FACILITER LE DON D'ÉLÉ...</td>\n",
       "    </tr>\n",
       "    <tr>\n",
       "      <th>2</th>\n",
       "      <td>Geschenkschachtel</td>\n",
       "      <td>Box for gift objects</td>\n",
       "      <td>Boîte à cadeaux</td>\n",
       "    </tr>\n",
       "    <tr>\n",
       "      <th>3</th>\n",
       "      <td>Behälter für Geschenke</td>\n",
       "      <td>A container for gifts</td>\n",
       "      <td>Récipient pour cadeaux</td>\n",
       "    </tr>\n",
       "    <tr>\n",
       "      <th>4</th>\n",
       "      <td>GESCHENKKARTONBEHÄLTER</td>\n",
       "      <td>GIFT BOX CONTAINER</td>\n",
       "      <td>PAQUET-CADEAU</td>\n",
       "    </tr>\n",
       "  </tbody>\n",
       "</table>\n",
       "</div>"
      ],
      "text/plain": [
       "                                            title.de  \\\n",
       "0  VERFAHREN UND SYSTEM UM ELEKTRONISCH EIN ONLIN...   \n",
       "1  SYSTEM UND VERFAHREN ZUM SCHENKEN VON VIRTUELL...   \n",
       "2                                  Geschenkschachtel   \n",
       "3                             Behälter für Geschenke   \n",
       "4                             GESCHENKKARTONBEHÄLTER   \n",
       "\n",
       "                                            title.en  \\\n",
       "0  METHODS AND SYSTEMS FOR ELECTRONICALLY ACCEPTI...   \n",
       "1  SYSTEM AND METHOD FOR FACILITATING GIFTING OF ...   \n",
       "2                               Box for gift objects   \n",
       "3                              A container for gifts   \n",
       "4                                 GIFT BOX CONTAINER   \n",
       "\n",
       "                                            title.fr  \n",
       "0  PROCEDES ET SYSTEMES POUR ACCEPTER ET ECHANGER...  \n",
       "1  SYSTÈME ET PROCÉDÉ POUR FACILITER LE DON D'ÉLÉ...  \n",
       "2                                    Boîte à cadeaux  \n",
       "3                             Récipient pour cadeaux  \n",
       "4                                      PAQUET-CADEAU  "
      ]
     },
     "execution_count": 7,
     "metadata": {},
     "output_type": "execute_result"
    }
   ],
   "source": [
    "# searching for publications with the word GIFT only in the English title ignoring case\n",
    "q = epab.query_title('gift', language=\"EN\")\n",
    "print (f'Publications with the word gift in any combination of lower and upper case', q)\n",
    "\n",
    "q.get_results('title', limit=5)\n",
    "\n",
    "\n"
   ]
  },
  {
   "cell_type": "code",
   "execution_count": 8,
   "id": "3858f2c1-25e1-419c-8c70-72d61e0605dc",
   "metadata": {},
   "outputs": [
    {
     "name": "stdout",
     "output_type": "stream",
     "text": [
      "Publications with the word gift in lowercase 46 publications\n"
     ]
    },
    {
     "data": {
      "text/html": [
       "<div>\n",
       "<style scoped>\n",
       "    .dataframe tbody tr th:only-of-type {\n",
       "        vertical-align: middle;\n",
       "    }\n",
       "\n",
       "    .dataframe tbody tr th {\n",
       "        vertical-align: top;\n",
       "    }\n",
       "\n",
       "    .dataframe thead th {\n",
       "        text-align: right;\n",
       "    }\n",
       "</style>\n",
       "<table border=\"1\" class=\"dataframe\">\n",
       "  <thead>\n",
       "    <tr style=\"text-align: right;\">\n",
       "      <th></th>\n",
       "      <th>title.de</th>\n",
       "      <th>title.en</th>\n",
       "      <th>title.fr</th>\n",
       "    </tr>\n",
       "  </thead>\n",
       "  <tbody>\n",
       "    <tr>\n",
       "      <th>0</th>\n",
       "      <td>Verfahren und Vorrichtung zum Schenken über ei...</td>\n",
       "      <td>Methods and apparatus for gifting over a data ...</td>\n",
       "      <td>Procédés et appareil pour donner des cadeaux d...</td>\n",
       "    </tr>\n",
       "    <tr>\n",
       "      <th>1</th>\n",
       "      <td>Verriegelter Geschenkschachtel</td>\n",
       "      <td>Locking gift box</td>\n",
       "      <td>Boîte à cadeaux scellée</td>\n",
       "    </tr>\n",
       "    <tr>\n",
       "      <th>2</th>\n",
       "      <td>Personalisiertes Geschenkartifakt</td>\n",
       "      <td>Personalized gift artifact</td>\n",
       "      <td>Artéfact de cadeaux personnalisés</td>\n",
       "    </tr>\n",
       "    <tr>\n",
       "      <th>3</th>\n",
       "      <td>Simuliertes Geschenk bildende Dose</td>\n",
       "      <td>Simulated gift wrap box</td>\n",
       "      <td>Boîte d'emballage simulant un cadeau</td>\n",
       "    </tr>\n",
       "    <tr>\n",
       "      <th>4</th>\n",
       "      <td>Kombinationsbehälter für Überraschungsgeschenk...</td>\n",
       "      <td>A container for surprise gifts which can be co...</td>\n",
       "      <td>Récipient pour un cadeau-surprise, pouvant êtr...</td>\n",
       "    </tr>\n",
       "  </tbody>\n",
       "</table>\n",
       "</div>"
      ],
      "text/plain": [
       "                                            title.de  \\\n",
       "0  Verfahren und Vorrichtung zum Schenken über ei...   \n",
       "1                     Verriegelter Geschenkschachtel   \n",
       "2                  Personalisiertes Geschenkartifakt   \n",
       "3                 Simuliertes Geschenk bildende Dose   \n",
       "4  Kombinationsbehälter für Überraschungsgeschenk...   \n",
       "\n",
       "                                            title.en  \\\n",
       "0  Methods and apparatus for gifting over a data ...   \n",
       "1                                   Locking gift box   \n",
       "2                         Personalized gift artifact   \n",
       "3                            Simulated gift wrap box   \n",
       "4  A container for surprise gifts which can be co...   \n",
       "\n",
       "                                            title.fr  \n",
       "0  Procédés et appareil pour donner des cadeaux d...  \n",
       "1                            Boîte à cadeaux scellée  \n",
       "2                  Artéfact de cadeaux personnalisés  \n",
       "3               Boîte d'emballage simulant un cadeau  \n",
       "4  Récipient pour un cadeau-surprise, pouvant êtr...  "
      ]
     },
     "execution_count": 8,
     "metadata": {},
     "output_type": "execute_result"
    }
   ],
   "source": [
    "# searching for publications with the word GIFT only in the English title forcing lowercase\n",
    "r = epab.query_title('gift', language=\"EN\", ignore_case=False)\n",
    "print (f'Publications with the word gift in lowercase', r)\n",
    "\n",
    "r.get_results('title', limit=5)"
   ]
  },
  {
   "cell_type": "markdown",
   "id": "fb0efe7d-c9e9-4089-a54b-ecb9ba3e078d",
   "metadata": {},
   "source": [
    "### Multiple search terms\n",
    "We can enter multiple search terms in the queries we run on EPAB by full text fields. When we enter multiple terms, by default these terms are combined with an `OR`"
   ]
  },
  {
   "cell_type": "code",
   "execution_count": 15,
   "id": "28b9770a-110f-47f8-a4eb-ec89563d245d",
   "metadata": {},
   "outputs": [
    {
     "name": "stdout",
     "output_type": "stream",
     "text": [
      "1002 publications\n"
     ]
    },
    {
     "data": {
      "text/plain": [
       "[{'title': {'en': 'LIVE, ATTENUATED CORONAVIRUS COMPRISING A VARIANT REPLICASE GENE ENCODING POLYPROTEINS COMPRISING A MUTATION IN NSP-10.'}},\n",
       " {'title': {'en': \"2'-SUBSTITUTED-N6-SUBSTITUTED PURINE NUCLEOTIDES FOR CORONA VIRUS TREATMENT\"}},\n",
       " {'title': {'en': 'PEPTIDE FOR PREVENTION OR TREATMENT OF COVID-19'}},\n",
       " {'title': {'en': 'THE USE OF CHITOSAN POLYMER IN THE TREATMENT AND PREVENTION OF INFECTIONS CAUSED BY CORONAVIRUSES'}},\n",
       " {'title': {'en': 'COMPOSITIONS AGAINST SARS-CORONAVIRUS AND USES THEREOF'}},\n",
       " {'title': {'en': 'Peptide compounds for detecting or inhibiting SARS coronavirus and application thereof'}},\n",
       " {'title': {'en': 'SUGAR CHAIN AND COMPOSITIONS THEREOF AND USE THEREOF IN PREVENTION AND/OR TREATMENT OF CORONAVIRUS INFECTION'}},\n",
       " {'title': {'en': 'USE OF A GRAPE EXTRACT AS A VIRUCIDE AGAINST VIRUSES FROM THE CORONAVIRUS FAMILY'}},\n",
       " {'title': {'en': 'Nucleic acid sequences that can be used as primers and probes in the amplification and detection of SARS coronavirus'}},\n",
       " {'title': {'en': 'BIOMARKERS FOR SYSTEMIC PULMONARY DISEASE (SPD) IN PARTICULAR SEVERE COVID19-DISEASE'}}]"
      ]
     },
     "execution_count": 15,
     "metadata": {},
     "output_type": "execute_result"
    }
   ],
   "source": [
    "# Searching a set of possible terms (e.g. synonyms)\n",
    "q = epab.query_title(\"covid, corona virus, coronavirus\", language=\"EN\")\n",
    "print (q)\n",
    "q.get_results(\"title.en\", output_type=\"list\", limit=10)"
   ]
  },
  {
   "cell_type": "markdown",
   "id": "d3c8194c-16da-4ae1-93ec-7f00fa478126",
   "metadata": {},
   "source": [
    "#### Multiple search terms combined with AND\n",
    "We can also query with several strings, and specify that they all should be present, with the `match_all` parameter."
   ]
  },
  {
   "cell_type": "code",
   "execution_count": 17,
   "id": "5f84e14c-a2d1-46c7-826a-95c2b21f55f1",
   "metadata": {},
   "outputs": [
    {
     "name": "stdout",
     "output_type": "stream",
     "text": [
      "144 publications\n"
     ]
    },
    {
     "data": {
      "text/html": [
       "<div>\n",
       "<style scoped>\n",
       "    .dataframe tbody tr th:only-of-type {\n",
       "        vertical-align: middle;\n",
       "    }\n",
       "\n",
       "    .dataframe tbody tr th {\n",
       "        vertical-align: top;\n",
       "    }\n",
       "\n",
       "    .dataframe thead th {\n",
       "        text-align: right;\n",
       "    }\n",
       "</style>\n",
       "<table border=\"1\" class=\"dataframe\">\n",
       "  <thead>\n",
       "    <tr style=\"text-align: right;\">\n",
       "      <th></th>\n",
       "      <th>title.en</th>\n",
       "    </tr>\n",
       "  </thead>\n",
       "  <tbody>\n",
       "    <tr>\n",
       "      <th>0</th>\n",
       "      <td>NUCLEIC ACID VACCINES FOR CORONAVIRUS</td>\n",
       "    </tr>\n",
       "    <tr>\n",
       "      <th>1</th>\n",
       "      <td>USE OF VIRAL VECTORS FOR CORONAVIRUS VACCINE P...</td>\n",
       "    </tr>\n",
       "    <tr>\n",
       "      <th>2</th>\n",
       "      <td>INFLUENZA VIRUS VECTOR-BASED NOVEL CORONAVIRUS...</td>\n",
       "    </tr>\n",
       "    <tr>\n",
       "      <th>3</th>\n",
       "      <td>FELINE SEVERE ACUTE RESPIRATORY SYNDROME CORON...</td>\n",
       "    </tr>\n",
       "    <tr>\n",
       "      <th>4</th>\n",
       "      <td>Coronavirus, nucleic acid, protein, and method...</td>\n",
       "    </tr>\n",
       "  </tbody>\n",
       "</table>\n",
       "</div>"
      ],
      "text/plain": [
       "                                            title.en\n",
       "0              NUCLEIC ACID VACCINES FOR CORONAVIRUS\n",
       "1  USE OF VIRAL VECTORS FOR CORONAVIRUS VACCINE P...\n",
       "2  INFLUENZA VIRUS VECTOR-BASED NOVEL CORONAVIRUS...\n",
       "3  FELINE SEVERE ACUTE RESPIRATORY SYNDROME CORON...\n",
       "4  Coronavirus, nucleic acid, protein, and method..."
      ]
     },
     "execution_count": 17,
     "metadata": {},
     "output_type": "execute_result"
    }
   ],
   "source": [
    "# We can also look for having multiple terms in the same title\n",
    "q = epab.query_title(\"coronavirus, vaccine\", match_all=True, language=\"EN\")\n",
    "print(q)\n",
    "q.get_results(\"title.en\", limit=5)"
   ]
  },
  {
   "cell_type": "markdown",
   "id": "c2d97d89-0893-4297-869b-947e998330a2",
   "metadata": {},
   "source": [
    "#### Multiple search terms with advanced combinations\n",
    "What if you want to mix `AND` with `OR` with the combinations of terms? Combining queries comes in handy for this case. "
   ]
  },
  {
   "cell_type": "code",
   "execution_count": null,
   "id": "781a8673-4996-431b-a327-415cf4b507a2",
   "metadata": {},
   "outputs": [],
   "source": [
    "# searching for synonims of Covid \n",
    "q = epab.query_title(search_terms=\"covid, corona virus, coronavirus\", language=\"EN\")\n",
    "\n",
    "# searching for synonims of vaccine\n",
    "r = epab.query_title(search_terms=\"vaccine%, inmun%\", language=\"EN\")\n",
    "\n",
    "s = q & r\n",
    "\n",
    "s.get_results('title.en', limit = 10)"
   ]
  },
  {
   "cell_type": "markdown",
   "id": "44a4e260-487d-4e83-a69c-a9eb100a9e4b",
   "metadata": {},
   "source": [
    "### Querying abstract, claims and description\n",
    "You can query other parts of the fulltext such as the claims, the abstract, and the description with the same methods, obviously changing the part of the fulltext in the method nomenclature. "
   ]
  },
  {
   "cell_type": "code",
   "execution_count": 18,
   "id": "9c503bcd-bf09-4ffe-a596-bbc3707a2cc3",
   "metadata": {},
   "outputs": [
    {
     "name": "stdout",
     "output_type": "stream",
     "text": [
      "1428 publications\n"
     ]
    },
    {
     "data": {
      "text/plain": [
       "[{'abstract': {'language': 'EN',\n",
       "   'text': '<p id=\"pa01\" num=\"0001\">Disclosed is a feedback control method in closed-loop transmit diversity in which feedback information representing amounts of amplitude and phase control is transmitted from a mobile station to a radio base station. The mobile station receives downlink pilot signals, which are transmitted by a handover-destination base station, during handover control, calculates feedback information, which represents amounts of amplitude and phase and phase control transmitted to the handover-destination base station, beforehand based upon the pilot signals received, and transmits the feedback information to the handover-destination base station before completion of base-station changeover by handover.<img id=\"iaf01\" file=\"imgaf001.tif\" wi=\"126\" he=\"94\" img-content=\"drawing\" img-format=\"tif\"/></p>'}},\n",
       " {'abstract': {'language': 'EN',\n",
       "   'text': '<p id=\"pa01\" num=\"0001\">A hardware is used to perform an SSDT processing, thereby avoiding performance degradation than otherwise would occur due to load increase caused by a software processing, and thereby realizing a base station that can instantaneously perform a transmission control and provide a high speed site selection. In order to perform a site selection diversity power control (SSDT) for the purpose of reducing the amount of interference that would be caused by transmitting the same data to a plurality of cells or antennas during soft-handover, an encode processing part (1) is used to add a transmission control bit to the transmitted data. In response to this transmission control bit, a transmission control signal selecting circuit (206) selects a transmission control signal of destination. An output control circuit (207) receives, as its inputs, a transmission spread signal and the transmission control signal to perform an output control and instantaneously perform a transmission control, thereby realizing a high-speed site selection.<img id=\"iaf01\" file=\"imgaf001.tif\" wi=\"160\" he=\"101\" img-content=\"drawing\" img-format=\"tif\"/></p>'}}]"
      ]
     },
     "execution_count": 18,
     "metadata": {},
     "output_type": "execute_result"
    }
   ],
   "source": [
    "# abstract search\n",
    "q = epab.query_abstract(\"handover, base station\", match_all=True, ignore_case=True)\n",
    "print(q)\n",
    "q.get_results(\"abstract\", output_type=\"list\", limit=2)"
   ]
  },
  {
   "cell_type": "markdown",
   "id": "a4d7457e-f437-49b3-851e-2d5a27b88991",
   "metadata": {},
   "source": [
    "## Retrieving statistics from a query\n",
    "Sometimes you will want to get statistics over the results of a query, before further processing it. The method `get_stats` returns a dataframe with the statistics over one or more selected fields. when you run this method on a query object, for the selected field(s) you will get the following information. \n",
    "\n",
    "- the `count` column reports the total number of occurrences of the corresponding field(s) value\n",
    "- the `unique_publications` column reports the number of unique publications having that value\n",
    "- the last two lines of the table are used to report the remainder and the total\n",
    "\n",
    "### Statistics on patents about wireless communication networks\n",
    "Let's look at an example. We will make a query for publications in the field of wireless communication networks, grouped in the CPC under H04W"
   ]
  },
  {
   "cell_type": "code",
   "execution_count": null,
   "id": "5291f3c3-f834-47f3-a11c-26ca1b1d30b6",
   "metadata": {},
   "outputs": [],
   "source": [
    "# Running a query for all publications with CPC symbols starting with H04W\n",
    "q = epab.query_ipc(\"H04W%\")\n",
    "q"
   ]
  },
  {
   "cell_type": "code",
   "execution_count": null,
   "id": "bac8f0f6-aade-4fea-913e-f27ed207675a",
   "metadata": {},
   "outputs": [],
   "source": [
    "# We want to see the distribution of the countries where the inventors mentioned in the publications resulting from the query live\n",
    "q.get_stats(\"inventor.country\")"
   ]
  },
  {
   "cell_type": "markdown",
   "id": "2f43e401-413f-41d4-bc2b-3c592f69a3f1",
   "metadata": {},
   "source": [
    "Notice that the total number of unique publications corresponds with the size of the query result, which makes sense. You can also see that there are more inventors than publications. This happens because typically one application lists more than one inventor. We can also see what applicants are most active in the field of wireless communication networks"
   ]
  },
  {
   "cell_type": "code",
   "execution_count": null,
   "id": "46c99ff9-92d9-4353-9c32-fa17e09a55a1",
   "metadata": {},
   "outputs": [],
   "source": [
    "# We want to see the distribution of the countries where the inventors mentioned in the publications resulting from the query live\n",
    "q.get_stats(\"applicant.name\")"
   ]
  },
  {
   "cell_type": "markdown",
   "id": "a77f9626-9b35-4382-81f7-4d9a2c1ddf56",
   "metadata": {},
   "source": [
    "Again remember that a patent application can name more than one applicant, so it is possible that the sum of the `count` field will be higher than the sum of the `unique_publications` field."
   ]
  },
  {
   "cell_type": "markdown",
   "id": "fbfabe5e-60c6-42e8-8e07-f8752fb215f8",
   "metadata": {},
   "source": []
  }
 ],
 "metadata": {
  "kernelspec": {
   "display_name": "Python 3 (ipykernel)",
   "language": "python",
   "name": "python3"
  },
  "language_info": {
   "codemirror_mode": {
    "name": "ipython",
    "version": 3
   },
   "file_extension": ".py",
   "mimetype": "text/x-python",
   "name": "python",
   "nbconvert_exporter": "python",
   "pygments_lexer": "ipython3",
   "version": "3.11.8"
  }
 },
 "nbformat": 4,
 "nbformat_minor": 5
}
