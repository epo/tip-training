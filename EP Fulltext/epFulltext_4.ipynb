{
 "cells": [
  {
   "cell_type": "markdown",
   "id": "755d5f4f-7c9c-4d7a-ad99-0b27f6ad2ed8",
   "metadata": {},
   "source": [
    "#### The EP full-text library - Lesson 4\n",
    "This notebook expands on lesson 4 to dive into more advanced concepts of EPAB, the implementation in TIP of the EP full-text library. We will introduce working with raw SQL queries. **Important note:** the goal of this lesson is NOT to explain SQL sintaxt. If you are not familiar with SQL it is recommended that you first follow [this tutorial](https://www.w3schools.com/sql/default.asp).\n",
    "\n",
    "As we did in the first notebook, we first create an instance of the EPAB library. Remember that by default we are getting access to a test database."
   ]
  },
  {
   "cell_type": "code",
   "execution_count": 48,
   "id": "1274c1e9-de67-4ebc-9e40-4f163702696c",
   "metadata": {},
   "outputs": [],
   "source": [
    "# Importing the EPAB client\n",
    "from epo.tipdata.epab import EPABClient\n",
    "\n",
    "# creating an instance of the EPAB client with the TEST database\n",
    "epab = EPABClient(env='TEST')\n"
   ]
  },
  {
   "cell_type": "markdown",
   "id": "67655994-e5e8-42a5-bacb-e97449137d53",
   "metadata": {},
   "source": [
    "## Working with SQL queries\n",
    "So far we have been querying the EPAB library with methods that specify the query parameters, and separate methods that specify what data we wish to get, from the publications returned as a result to the query. The library also allows you to work with SQL queries to access the EPAB database. The data model is very simple, since EPAB consists in a single table containing the publications. "
   ]
  },
  {
   "cell_type": "markdown",
   "id": "fc8cf91c-81aa-48fa-9649-77c06e3bcb92",
   "metadata": {},
   "source": [
    "## Working with SQL queries in EPAB \n",
    "Let's start reviewing what data you can retrieve from the EPAB database with the `SELECT` statement. In lesson 1 we saw the fields that the EPAB library has, for each publication. You can retrieve the list of fields with the `fields()` method. "
   ]
  },
  {
   "cell_type": "code",
   "execution_count": null,
   "id": "acbd7a71-b23b-4508-8862-417fda9be730",
   "metadata": {},
   "outputs": [],
   "source": [
    "epab.fields()"
   ]
  },
  {
   "cell_type": "markdown",
   "id": "e5201b34-e4f1-4453-8e9b-d3a18eff7843",
   "metadata": {},
   "source": [
    "### The table name\n",
    "You can use any of the fields above in your SELECT statement. The name of the database table is `p-epo-tip-prj-3a1f.p_epo_tip_euwe4_bqd_epab.publications` which is not the easiest name to memorize. To solve this, EPAB has a property `epab.full_table_name` that gives you the name of the table"
   ]
  },
  {
   "cell_type": "code",
   "execution_count": null,
   "id": "074f3a8e-9f73-459f-8590-48501f9f9837",
   "metadata": {},
   "outputs": [],
   "source": [
    "# printing the name of the EPAB table, remember that if we are in the test environment the table will have the suffix _test\n",
    "print (f'the name of the table is', epab.full_table_name)"
   ]
  },
  {
   "cell_type": "markdown",
   "id": "9c0e7485-4f6d-40c7-aed0-d50279b21ec5",
   "metadata": {},
   "source": [
    "### Our first SQL SELECT query\n",
    "Let's do a simple SQL query. The EPAB library accepts an SQL query as a string, so it is useful to build the query by parts. We want to see the publications for applications filed in 2020."
   ]
  },
  {
   "cell_type": "code",
   "execution_count": null,
   "id": "f66ab27b-e6e4-47e4-9c55-e52583b5f736",
   "metadata": {},
   "outputs": [],
   "source": [
    "# Defining the fields to select\n",
    "selection = 'application.number, application.filing_date, publication.number'\n",
    "\n",
    "# Defining the condition, publications with an application filed in 2020. \n",
    "condition = \" WHERE application.filing_date LIKE '2020%'\"\n",
    "\n",
    "# Putting the statement together with string concatenation for better readability\n",
    "statement = (\n",
    "    f\"SELECT {selection} \"\n",
    "    f\"FROM `{epab.full_table_name}` \"\n",
    "    f\"{condition};\"\n",
    ")\n",
    "\n",
    "# Reviewing the statement\n",
    "statement\n",
    "\n",
    "# Querying EPAB with the SQL statement\n",
    "results = epab.sql_query(statement)\n",
    "\n",
    "# Showing the results as a pithon list\n",
    "results"
   ]
  },
  {
   "cell_type": "markdown",
   "id": "5cc6e837-813a-4298-8656-7baca3987912",
   "metadata": {},
   "source": [
    "### Grouping publications by application number\n",
    "As we have seen multiple times now, for each application we can get multiple publications. Let's group the publications so we have a single entry per application, using the `COUNT` aggregate function and the `GROUP BY` statement."
   ]
  },
  {
   "cell_type": "code",
   "execution_count": null,
   "id": "3d30a0a0-2d07-444f-9103-aabf1da22333",
   "metadata": {},
   "outputs": [],
   "source": [
    "# creating an instance of the EPAB client with the PROD database\n",
    "# This is done to ensure that multiple publications for each application can be retrieved\n",
    "epab = EPABClient(env='PROD')\n",
    "\n",
    "\n",
    "# Defining the fields to select\n",
    "selection = 'application.number, application.filing_date, COUNT(publication.number) AS publication_count'\n",
    "\n",
    "# Defining the condition, publications with an application filed in 2020\n",
    "condition = \"WHERE application.filing_date LIKE '2020%'\"\n",
    "\n",
    "# Grouping by application number and filing date\n",
    "group_by = \"GROUP BY application.number, application.filing_date\"\n",
    "\n",
    "# Ordering by publication count in descending order\n",
    "order_by = \"ORDER BY publication_count DESC\"\n",
    "\n",
    "# Putting the statement together with string concatenation for better readability\n",
    "statement = (\n",
    "    f\"SELECT {selection} \"\n",
    "    f\"FROM `{epab.full_table_name}` \"\n",
    "    f\"{condition} \"\n",
    "    f\"{group_by} \"\n",
    "    f\"{order_by};\"\n",
    ")\n",
    "\n",
    "# Reviewing the statement\n",
    "print(statement)\n",
    "\n",
    "# Querying EPAB with the SQL statement\n",
    "results = epab.sql_query(statement)\n",
    "\n",
    "# Showing the results as a Python list\n",
    "results\n"
   ]
  },
  {
   "cell_type": "markdown",
   "id": "424fd53a-a94d-4ef3-bec4-c94b92d4ae3e",
   "metadata": {},
   "source": [
    "### Grouping applications by number of publications\n",
    "Let's work with an extra level of aggregation. We will take the query we just did as a sub query, and aggregate the applications according to the number of publications they contain. We do not need the filing date for this analysis."
   ]
  },
  {
   "cell_type": "code",
   "execution_count": 54,
   "id": "a7ae9d3e-3402-4150-ac8a-eec36dfe6069",
   "metadata": {},
   "outputs": [
    {
     "name": "stdout",
     "output_type": "stream",
     "text": [
      "SELECT publication_count, COUNT(*) AS application_count FROM (SELECT application.number, COUNT(publication.number) AS publication_count FROM `p-epo-tip-prj-3a1f.p_epo_tip_euwe4_bqd_epab.publications` GROUP BY application.number) AS sub GROUP BY publication_count ORDER BY publication_count DESC;\n"
     ]
    },
    {
     "data": {
      "text/plain": [
       "[{'publication_count': 6, 'application_count': 12},\n",
       " {'publication_count': 5, 'application_count': 283},\n",
       " {'publication_count': 4, 'application_count': 9210},\n",
       " {'publication_count': 3, 'application_count': 367505},\n",
       " {'publication_count': 2, 'application_count': 2066571},\n",
       " {'publication_count': 1, 'application_count': 2124895}]"
      ]
     },
     "execution_count": 54,
     "metadata": {},
     "output_type": "execute_result"
    }
   ],
   "source": [
    "# First step: Calculate the number of publications per application\n",
    "sub_query = (\n",
    "    f\"SELECT application.number, COUNT(publication.number) AS publication_count \"\n",
    "    f\"FROM `{epab.full_table_name}` \"\n",
    "    f\"GROUP BY application.number\"\n",
    ")\n",
    "\n",
    "# Second step: Count the number of applications for each publication count\n",
    "final_query = (\n",
    "    f\"SELECT publication_count, COUNT(*) AS application_count \"\n",
    "    f\"FROM ({sub_query}) AS sub \"\n",
    "    f\"GROUP BY publication_count \"\n",
    "    f\"ORDER BY publication_count DESC;\"\n",
    ")\n",
    "\n",
    "# Reviewing the final query\n",
    "print(final_query)\n",
    "\n",
    "# Querying EPAB with the final query\n",
    "results = epab.sql_query(final_query)\n",
    "\n",
    "# Showing the results as a Python list\n",
    "results\n"
   ]
  },
  {
   "cell_type": "code",
   "execution_count": null,
   "id": "33077d1e-04ff-4d40-a6cb-0511ae424f3f",
   "metadata": {},
   "outputs": [],
   "source": []
  }
 ],
 "metadata": {
  "kernelspec": {
   "display_name": "Python 3 (ipykernel)",
   "language": "python",
   "name": "python3"
  },
  "language_info": {
   "codemirror_mode": {
    "name": "ipython",
    "version": 3
   },
   "file_extension": ".py",
   "mimetype": "text/x-python",
   "name": "python",
   "nbconvert_exporter": "python",
   "pygments_lexer": "ipython3",
   "version": "3.11.8"
  }
 },
 "nbformat": 4,
 "nbformat_minor": 5
}
