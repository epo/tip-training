{
 "cells": [
  {
   "cell_type": "markdown",
   "id": "755d5f4f-7c9c-4d7a-ad99-0b27f6ad2ed8",
   "metadata": {},
   "source": [
    "# The EP full-text library - Lesson 3\n",
    "This notebook expands on lesson 3 to dive into more advanced concepts of EPAB, the implementation in TIP of the EP full-text library. We will introduce iterative result processing and raw SQL queries. As we did in the first notebook, we first create an instance of the EPAB library. Remember that by default we are getting access to a test database. For this lesson we will work with access to the full database. "
   ]
  },
  {
   "cell_type": "code",
   "execution_count": 13,
   "id": "1274c1e9-de67-4ebc-9e40-4f163702696c",
   "metadata": {},
   "outputs": [],
   "source": [
    "# Importing the EPAB client\n",
    "from epo.tipdata.epab import EPABClient\n",
    "\n",
    "# creating an instance of the EPAB client with the PROD database\n",
    "epab = EPABClient(env='PROD')\n"
   ]
  },
  {
   "cell_type": "markdown",
   "id": "67655994-e5e8-42a5-bacb-e97449137d53",
   "metadata": {},
   "source": [
    "## Iterative result processing\n",
    "When we work with the Production database, it is likely that some queries will retrieve very large number of publications. We have seen the `get_results()` method for getting data from the result of a query. This method will get the data for all the publications resulting from the relevant query in one pass."
   ]
  },
  {
   "cell_type": "code",
   "execution_count": 16,
   "id": "b3be4129-4c52-43a3-b6f1-b6fb07c17b05",
   "metadata": {},
   "outputs": [
    {
     "name": "stdout",
     "output_type": "stream",
     "text": [
      "Our query results contains  183817 publications\n"
     ]
    }
   ],
   "source": [
    "# We query for publications within the wireless communications field\n",
    "q = epab.query_ipc(\"H04W%\")\n",
    "# Let's see the size of the results object\n",
    "print (f'Our query results contains ', q)"
   ]
  },
  {
   "cell_type": "markdown",
   "id": "c22bcbed-3960-4f2d-8f9e-c05540e5eb33",
   "metadata": {},
   "source": [
    "### Getting all the results in one go\n",
    "We can now decide to get all the results in one go, using the `get_results()` method that we know. With this size of query we can run into memory problems, or otherwise overload our workspace. "
   ]
  },
  {
   "cell_type": "code",
   "execution_count": 21,
   "id": "cdc8ee2a-a310-4dcd-9dbf-36a5edb24a31",
   "metadata": {},
   "outputs": [
    {
     "name": "stdout",
     "output_type": "stream",
     "text": [
      "The amount of results downloaded in one go is 183818\n"
     ]
    }
   ],
   "source": [
    "all_results = q.get_results('title.en')\n",
    "\n",
    "#displaying all the results in a dataframe\n",
    "print (f'The amount of results downloaded in one go is', len(all_results))"
   ]
  },
  {
   "cell_type": "markdown",
   "id": "0ce6b7c5-4b83-4aca-b2c4-947d421de83c",
   "metadata": {},
   "source": [
    "### Getting the results in batches\n",
    "For queries of this size, particularly when you want to get more data than just the title, such as the full text of the description, it is a good idea to use the `iterator()` method. In the example below we will get the results in batches of 5000 documents. "
   ]
  },
  {
   "cell_type": "code",
   "execution_count": 22,
   "id": "d2c82802-f113-4428-a350-966fca986ac9",
   "metadata": {},
   "outputs": [
    {
     "name": "stdout",
     "output_type": "stream",
     "text": [
      "In this iteration I have fetched 5000 publications. Total fetched: 5000\n",
      "In this iteration I have fetched 5000 publications. Total fetched: 10000\n",
      "In this iteration I have fetched 5000 publications. Total fetched: 15000\n",
      "In this iteration I have fetched 5000 publications. Total fetched: 20000\n",
      "In this iteration I have fetched 5000 publications. Total fetched: 25000\n",
      "In this iteration I have fetched 5000 publications. Total fetched: 30000\n",
      "In this iteration I have fetched 5000 publications. Total fetched: 35000\n",
      "In this iteration I have fetched 5000 publications. Total fetched: 40000\n",
      "In this iteration I have fetched 5000 publications. Total fetched: 45000\n",
      "In this iteration I have fetched 5000 publications. Total fetched: 50000\n",
      "In this iteration I have fetched 5000 publications. Total fetched: 55000\n",
      "In this iteration I have fetched 5000 publications. Total fetched: 60000\n",
      "In this iteration I have fetched 5000 publications. Total fetched: 65000\n",
      "In this iteration I have fetched 5000 publications. Total fetched: 70000\n",
      "In this iteration I have fetched 5000 publications. Total fetched: 75000\n",
      "In this iteration I have fetched 5000 publications. Total fetched: 80000\n",
      "In this iteration I have fetched 5000 publications. Total fetched: 85000\n",
      "In this iteration I have fetched 5000 publications. Total fetched: 90000\n",
      "In this iteration I have fetched 5000 publications. Total fetched: 95000\n",
      "In this iteration I have fetched 5000 publications. Total fetched: 100000\n",
      "In this iteration I have fetched 5000 publications. Total fetched: 105000\n",
      "In this iteration I have fetched 5000 publications. Total fetched: 110000\n",
      "In this iteration I have fetched 5000 publications. Total fetched: 115000\n",
      "In this iteration I have fetched 5000 publications. Total fetched: 120000\n",
      "In this iteration I have fetched 5000 publications. Total fetched: 125000\n",
      "In this iteration I have fetched 5000 publications. Total fetched: 130000\n",
      "In this iteration I have fetched 5000 publications. Total fetched: 135000\n",
      "In this iteration I have fetched 5000 publications. Total fetched: 140000\n",
      "In this iteration I have fetched 5000 publications. Total fetched: 145000\n",
      "In this iteration I have fetched 5000 publications. Total fetched: 150000\n",
      "In this iteration I have fetched 5000 publications. Total fetched: 155000\n",
      "In this iteration I have fetched 5000 publications. Total fetched: 160000\n",
      "In this iteration I have fetched 5000 publications. Total fetched: 165000\n",
      "In this iteration I have fetched 5000 publications. Total fetched: 170000\n",
      "In this iteration I have fetched 5000 publications. Total fetched: 175000\n",
      "In this iteration I have fetched 5000 publications. Total fetched: 180000\n",
      "In this iteration I have fetched 3818 publications. Total fetched: 183818\n"
     ]
    }
   ],
   "source": [
    "fetched = 0\n",
    "# We call the iterator method and ask for batches of 5000 results\n",
    "for batch in q.iterator(\"title.en\", batch_size=5000):\n",
    "    #the size of the batch, for didactic purposes\n",
    "    batch_size = len(batch)\n",
    "\n",
    "    #we add the fetched batch to the total amount of fetched documents\n",
    "    fetched += batch_size\n",
    "    \n",
    "    #displaying the batch fetching operation\n",
    "    print(f\"In this iteration I have fetched {batch_size} publications. Total fetched: {fetched}\")\n"
   ]
  },
  {
   "cell_type": "code",
   "execution_count": null,
   "id": "4592867f-9169-43f7-b77d-934533eac190",
   "metadata": {},
   "outputs": [],
   "source": []
  }
 ],
 "metadata": {
  "kernelspec": {
   "display_name": "Python 3 (ipykernel)",
   "language": "python",
   "name": "python3"
  },
  "language_info": {
   "codemirror_mode": {
    "name": "ipython",
    "version": 3
   },
   "file_extension": ".py",
   "mimetype": "text/x-python",
   "name": "python",
   "nbconvert_exporter": "python",
   "pygments_lexer": "ipython3",
   "version": "3.11.8"
  }
 },
 "nbformat": 4,
 "nbformat_minor": 5
}
