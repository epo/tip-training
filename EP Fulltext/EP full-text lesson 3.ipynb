{
 "cells": [
  {
   "cell_type": "markdown",
   "id": "755d5f4f-7c9c-4d7a-ad99-0b27f6ad2ed8",
   "metadata": {},
   "source": [
    "# The EP full-text library - Lesson 3\n",
    "This notebook expands on lesson 3 to dive into more advanced concepts of EPAB, the implementation in TIP of the EP full-text library. We will introduce iterative result processing and raw SQL queries. As we did in the first notebook, we first create an instance of the EPAB library. Remember that by default we are getting access to a test database. For this lesson we will work with access to the full database. "
   ]
  },
  {
   "cell_type": "code",
   "execution_count": 13,
   "id": "1274c1e9-de67-4ebc-9e40-4f163702696c",
   "metadata": {},
   "outputs": [],
   "source": [
    "# Importing the EPAB client\n",
    "from epo.tipdata.epab import EPABClient\n",
    "\n",
    "# creating an instance of the EPAB client with the PROD database\n",
    "epab = EPABClient(env='PROD')\n"
   ]
  },
  {
   "cell_type": "markdown",
   "id": "67655994-e5e8-42a5-bacb-e97449137d53",
   "metadata": {},
   "source": [
    "## Iterative result processing\n",
    "When we work with the Production database, it is likely that some queries will retrieve very large number of publications. We have seen the `get_results()` method for getting data from the result of a query. This method will get the data for all the publications resulting from the relevant query in one pass."
   ]
  },
  {
   "cell_type": "code",
   "execution_count": 16,
   "id": "b3be4129-4c52-43a3-b6f1-b6fb07c17b05",
   "metadata": {},
   "outputs": [
    {
     "name": "stdout",
     "output_type": "stream",
     "text": [
      "Our query results contains  183817 publications\n"
     ]
    }
   ],
   "source": [
    "# We query for publications within the wireless communications field\n",
    "q = epab.query_ipc(\"H04W%\")\n",
    "# Let's see the size of the results object\n",
    "print (f'Our query results contains ', q)"
   ]
  },
  {
   "cell_type": "markdown",
   "id": "c22bcbed-3960-4f2d-8f9e-c05540e5eb33",
   "metadata": {},
   "source": [
    "### Getting all the results in one go\n",
    "We can now decide to get all the results in one go, using the `get_results()` method that we know. With this size of query we can run into memory problems, or otherwise overload our workspace. "
   ]
  },
  {
   "cell_type": "code",
   "execution_count": 21,
   "id": "cdc8ee2a-a310-4dcd-9dbf-36a5edb24a31",
   "metadata": {},
   "outputs": [
    {
     "name": "stdout",
     "output_type": "stream",
     "text": [
      "The amount of results downloaded in one go is 183818\n"
     ]
    }
   ],
   "source": [
    "all_results = q.get_results('title.en')\n",
    "\n",
    "#displaying all the results in a dataframe\n",
    "print (f'The amount of results downloaded in one go is', len(all_results))"
   ]
  },
  {
   "cell_type": "code",
   "execution_count": null,
   "id": "27a9dcee-a825-4429-8790-39c2553a1dda",
   "metadata": {},
   "outputs": [],
   "source": [
    "# code cell\n",
    "\n"
   ]
  },
  {
   "cell_type": "code",
   "execution_count": null,
   "id": "d37ffa92-64bd-474d-94e4-0de010c42acc",
   "metadata": {},
   "outputs": [],
   "source": [
    "# searching for publications with the word GIFT only in the English title\n",
    "q = epab.query_title('gift', language=\"EN\")\n",
    "q.get_results(\"title\", limit=5, )"
   ]
  },
  {
   "cell_type": "code",
   "execution_count": null,
   "id": "48d02dc4-718c-45f7-8ee6-79efae8599e6",
   "metadata": {},
   "outputs": [],
   "source": [
    "# we get a second query with publications mentioning poison, in German\n",
    "r = epab.query_title('gift', language=\"DE\")\n",
    "print (f'publications with the word Gift in German', r)\n",
    "\n",
    "#combining the two queries\n",
    "s = q & r\n",
    "\n",
    "print (f'Poisionus gifts found:', s)"
   ]
  },
  {
   "cell_type": "code",
   "execution_count": null,
   "id": "3cd2e3ea-1a26-4ec4-9091-63807559ee29",
   "metadata": {},
   "outputs": [],
   "source": [
    "# searching for publications with the word GIFT only in the English title ignoring case\n",
    "q = epab.query_title('gift', language=\"EN\")\n",
    "print (f'Publications with the word gift in any combination of lower and upper case', q)\n",
    "\n",
    "q.get_results('title', limit=5)\n",
    "\n",
    "\n"
   ]
  },
  {
   "cell_type": "code",
   "execution_count": null,
   "id": "3858f2c1-25e1-419c-8c70-72d61e0605dc",
   "metadata": {},
   "outputs": [],
   "source": [
    "# searching for publications with the word GIFT only in the English title forcing lowercase\n",
    "r = epab.query_title('gift', language=\"EN\", ignore_case=False)\n",
    "print (f'Publications with the word gift in lowercase', r)\n",
    "\n",
    "r.get_results('title', limit=5)"
   ]
  },
  {
   "cell_type": "code",
   "execution_count": null,
   "id": "28b9770a-110f-47f8-a4eb-ec89563d245d",
   "metadata": {},
   "outputs": [],
   "source": [
    "# Searching a set of possible terms (e.g. synonyms)\n",
    "q = epab.query_title(search_terms=\"covid, corona virus, coronavirus\", language=\"EN\")\n",
    "print (q)\n",
    "q.get_results(\"title.en\", output_type=\"datagrid\", limit=10)"
   ]
  },
  {
   "cell_type": "markdown",
   "id": "d3c8194c-16da-4ae1-93ec-7f00fa478126",
   "metadata": {},
   "source": [
    "#### Multiple search terms combined with AND\n",
    "We can also query with several strings, and specify that they all should be present, with the `match_all` parameter."
   ]
  },
  {
   "cell_type": "code",
   "execution_count": null,
   "id": "5f84e14c-a2d1-46c7-826a-95c2b21f55f1",
   "metadata": {},
   "outputs": [],
   "source": [
    "# We can also look for having multiple terms in the same title\n",
    "q = epab.query_title(search_terms=\"coronavirus, vaccine\", match_all=True, language=\"EN\")\n",
    "print(q)\n",
    "q.get_results(\"title.en\", limit=5)"
   ]
  },
  {
   "cell_type": "markdown",
   "id": "c2d97d89-0893-4297-869b-947e998330a2",
   "metadata": {},
   "source": [
    "#### Multiple search terms with advanced combinations\n",
    "What if you want to mix `AND` with `OR` with the combinations of terms? Combining queries comes in handy for this case. "
   ]
  },
  {
   "cell_type": "code",
   "execution_count": null,
   "id": "781a8673-4996-431b-a327-415cf4b507a2",
   "metadata": {},
   "outputs": [],
   "source": [
    "# searching for synonims of Covid \n",
    "q = epab.query_title(search_terms=\"covid, corona virus, coronavirus\", language=\"EN\")\n",
    "\n",
    "# searching for synonims of vaccine\n",
    "r = epab.query_title(search_terms=\"vaccine%, inmun%\", language=\"EN\")\n",
    "\n",
    "s = q & r\n",
    "\n",
    "s.get_results('title.en', limit = 10)"
   ]
  },
  {
   "cell_type": "code",
   "execution_count": null,
   "id": "9c503bcd-bf09-4ffe-a596-bbc3707a2cc3",
   "metadata": {},
   "outputs": [],
   "source": [
    "# abstract search\n",
    "q = epab.query_abstract(search_terms=\"handover, base station\", match_all=True, ignore_case=True)\n",
    "print(q)\n",
    "q.get_results(\"abstract\", output_type=\"list\", limit=2)"
   ]
  },
  {
   "cell_type": "markdown",
   "id": "0ce6b7c5-4b83-4aca-b2c4-947d421de83c",
   "metadata": {},
   "source": [
    "### Getting the results in batches\n",
    "For queries of this size, particularly when you want to get more data than just the title, such as the full text of the description, it is a good idea to use the `iterator()` method. In the example below we will get the results in batches of 5000 documents. "
   ]
  },
  {
   "cell_type": "code",
   "execution_count": 22,
   "id": "d2c82802-f113-4428-a350-966fca986ac9",
   "metadata": {},
   "outputs": [
    {
     "name": "stdout",
     "output_type": "stream",
     "text": [
      "In this iteration I have fetched 5000 publications. Total fetched: 5000\n",
      "In this iteration I have fetched 5000 publications. Total fetched: 10000\n",
      "In this iteration I have fetched 5000 publications. Total fetched: 15000\n",
      "In this iteration I have fetched 5000 publications. Total fetched: 20000\n",
      "In this iteration I have fetched 5000 publications. Total fetched: 25000\n",
      "In this iteration I have fetched 5000 publications. Total fetched: 30000\n",
      "In this iteration I have fetched 5000 publications. Total fetched: 35000\n",
      "In this iteration I have fetched 5000 publications. Total fetched: 40000\n",
      "In this iteration I have fetched 5000 publications. Total fetched: 45000\n",
      "In this iteration I have fetched 5000 publications. Total fetched: 50000\n",
      "In this iteration I have fetched 5000 publications. Total fetched: 55000\n",
      "In this iteration I have fetched 5000 publications. Total fetched: 60000\n",
      "In this iteration I have fetched 5000 publications. Total fetched: 65000\n",
      "In this iteration I have fetched 5000 publications. Total fetched: 70000\n",
      "In this iteration I have fetched 5000 publications. Total fetched: 75000\n",
      "In this iteration I have fetched 5000 publications. Total fetched: 80000\n",
      "In this iteration I have fetched 5000 publications. Total fetched: 85000\n",
      "In this iteration I have fetched 5000 publications. Total fetched: 90000\n",
      "In this iteration I have fetched 5000 publications. Total fetched: 95000\n",
      "In this iteration I have fetched 5000 publications. Total fetched: 100000\n",
      "In this iteration I have fetched 5000 publications. Total fetched: 105000\n",
      "In this iteration I have fetched 5000 publications. Total fetched: 110000\n",
      "In this iteration I have fetched 5000 publications. Total fetched: 115000\n",
      "In this iteration I have fetched 5000 publications. Total fetched: 120000\n",
      "In this iteration I have fetched 5000 publications. Total fetched: 125000\n",
      "In this iteration I have fetched 5000 publications. Total fetched: 130000\n",
      "In this iteration I have fetched 5000 publications. Total fetched: 135000\n",
      "In this iteration I have fetched 5000 publications. Total fetched: 140000\n",
      "In this iteration I have fetched 5000 publications. Total fetched: 145000\n",
      "In this iteration I have fetched 5000 publications. Total fetched: 150000\n",
      "In this iteration I have fetched 5000 publications. Total fetched: 155000\n",
      "In this iteration I have fetched 5000 publications. Total fetched: 160000\n",
      "In this iteration I have fetched 5000 publications. Total fetched: 165000\n",
      "In this iteration I have fetched 5000 publications. Total fetched: 170000\n",
      "In this iteration I have fetched 5000 publications. Total fetched: 175000\n",
      "In this iteration I have fetched 5000 publications. Total fetched: 180000\n",
      "In this iteration I have fetched 3818 publications. Total fetched: 183818\n"
     ]
    }
   ],
   "source": [
    "fetched = 0\n",
    "# We call the iterator method and ask for batches of 5000 results\n",
    "for batch in q.iterator(\"title.en\", batch_size=5000):\n",
    "    #the size of the batch, for didactic purposes\n",
    "    batch_size = len(batch)\n",
    "\n",
    "    #we add the fetched batch to the total amount of fetched documents\n",
    "    fetched += batch_size\n",
    "    \n",
    "    #displaying the batch fetching operation\n",
    "    print(f\"In this iteration I have fetched {batch_size} publications. Total fetched: {fetched}\")\n"
   ]
  },
  {
   "cell_type": "code",
   "execution_count": null,
   "id": "4592867f-9169-43f7-b77d-934533eac190",
   "metadata": {},
   "outputs": [],
   "source": []
  }
 ],
 "metadata": {
  "kernelspec": {
   "display_name": "Python 3 (ipykernel)",
   "language": "python",
   "name": "python3"
  },
  "language_info": {
   "codemirror_mode": {
    "name": "ipython",
    "version": 3
   },
   "file_extension": ".py",
   "mimetype": "text/x-python",
   "name": "python",
   "nbconvert_exporter": "python",
   "pygments_lexer": "ipython3",
   "version": "3.11.8"
  }
 },
 "nbformat": 4,
 "nbformat_minor": 5
}
