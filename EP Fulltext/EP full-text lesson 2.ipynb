{
 "cells": [
  {
   "cell_type": "markdown",
   "id": "755d5f4f-7c9c-4d7a-ad99-0b27f6ad2ed8",
   "metadata": {},
   "source": [
    "# The EP full-text library - Lesson 2\n",
    "This notebook expands on lesson 1 to dive into more advanced concepts of EPAB, the implementation in TIP of the EP full-text library. We will introduce querying by full text fields, divisionals and parents, and search report fields. As we did in the first notebook, we first create an instance of the EPAB library. Remember that by default we are getting access to a test database"
   ]
  },
  {
   "cell_type": "code",
   "execution_count": 4,
   "id": "1274c1e9-de67-4ebc-9e40-4f163702696c",
   "metadata": {},
   "outputs": [],
   "source": [
    "# Importing the EPAB client\n",
    "from epo.tipdata.epab import EPABClient\n",
    "\n",
    "# creating an instance of the EPAB client with the test database\n",
    "epab = EPABClient(env='TEST')\n"
   ]
  },
  {
   "cell_type": "markdown",
   "id": "1a74c20f-8021-4ddf-8518-6955e7d4067d",
   "metadata": {},
   "source": [
    "## Querying by full text fields\n",
    "Much like the [EP full-text search](https://www.epo.org/en/searching-for-patents/technical/ep-full-text), one of the most powerful features of the EPAB library is that it gives you access to the description, claims, title and abstract of the publications within the EPAB database. "
   ]
  },
  {
   "cell_type": "markdown",
   "id": "78ffbb3d-ead3-4fa5-8f69-b70078744d9a",
   "metadata": {},
   "source": [
    "### Querying by the title\n",
    "You can search for applications containing one or more terms in the title. When performing a first search for patent publications of a given technological concept, it is generally a good approach to search in the title, since when a publication contains the search term in the title it is likely that it is a good match for your search query. If you followed lesson 1, you probably can guess nomenclature of the search method: `query_title`."
   ]
  },
  {
   "cell_type": "code",
   "execution_count": 5,
   "id": "27a9dcee-a825-4429-8790-39c2553a1dda",
   "metadata": {},
   "outputs": [
    {
     "data": {
      "text/plain": [
       "[{'title': {'de': 'GDF-15 ZUR VORHERSAGE DER ERKRANKUNGSSCHWERE EINES PATIENTEN MIT COVID-19',\n",
       "   'en': 'GDF-15 FOR PREDICTING THE DISEASE SEVERITY OF A PATIENT WITH COVID-19',\n",
       "   'fr': \"GDF-15 POUR PRÉDIRE LA GRAVITÉ DE LA MALADIE D'UN PATIENT ATTEINT DE COVID-19\"}},\n",
       " {'title': {'de': 'CANNABIDIOL ZUR ERHÖHUNG DER IMPFSTOFFVERMITTELTEN IMMUNITÄT UND PROPHYLAXE VON COVID-19',\n",
       "   'en': 'CANNABIDIOL FOR AUGMENTING VACCINE MEDIATED IMMUNITY AND PROPHYLAXIS OF COVID-19',\n",
       "   'fr': \"CANNABIDIOL DESTINÉ À AUGMENTER L'IMMUNITÉ MÉDIÉE PAR UN VACCIN ET LA PROPHYLAXIE DE LA COVID-19\"}}]"
      ]
     },
     "execution_count": 5,
     "metadata": {},
     "output_type": "execute_result"
    }
   ],
   "source": [
    "# querying by the title of the publication with the word 'covid'\n",
    "q = epab.query_title('covid')\n",
    "q.get_results(\"title\", limit=5, output_type='list')\n"
   ]
  },
  {
   "cell_type": "markdown",
   "id": "b1738655-896d-41da-98af-8a124ec57061",
   "metadata": {
    "jp-MarkdownHeadingCollapsed": true
   },
   "source": [
    "#### Understanding fulltext languages\n",
    "You can see in the result that the title field contains a dictionary with three titles. It is very important, when working with fulltext, to take into consideration that the EPO publishes the fulltext fields in the three official languages: German, English, and French.\n",
    "\n",
    "When you search for a term in a fulltext field, by default you will search in all three languages. This can be problematic. A good example of a search query that would yield different results in English and German is the word \"Gift.\"\n",
    "\n",
    "In English, \"gift\" refers to a present or something given willingly to someone without payment. However, in German, \"Gift\" means \"poison.\" You can change this by specifying one or more of the official languages with the strings `EN`, `DE` and `FR`."
   ]
  },
  {
   "cell_type": "code",
   "execution_count": 4,
   "id": "d37ffa92-64bd-474d-94e4-0de010c42acc",
   "metadata": {},
   "outputs": [
    {
     "data": {
      "text/html": [
       "<div>\n",
       "<style scoped>\n",
       "    .dataframe tbody tr th:only-of-type {\n",
       "        vertical-align: middle;\n",
       "    }\n",
       "\n",
       "    .dataframe tbody tr th {\n",
       "        vertical-align: top;\n",
       "    }\n",
       "\n",
       "    .dataframe thead th {\n",
       "        text-align: right;\n",
       "    }\n",
       "</style>\n",
       "<table border=\"1\" class=\"dataframe\">\n",
       "  <thead>\n",
       "    <tr style=\"text-align: right;\">\n",
       "      <th></th>\n",
       "      <th>title.de</th>\n",
       "      <th>title.en</th>\n",
       "      <th>title.fr</th>\n",
       "    </tr>\n",
       "  </thead>\n",
       "  <tbody>\n",
       "    <tr>\n",
       "      <th>0</th>\n",
       "      <td>Faltbarer Geschenkkorb</td>\n",
       "      <td>Foldable gift basket</td>\n",
       "      <td>Panier pliable pour cadeaux</td>\n",
       "    </tr>\n",
       "    <tr>\n",
       "      <th>1</th>\n",
       "      <td>Synthetisches Geschenkpapier</td>\n",
       "      <td>Synthetic gift paper</td>\n",
       "      <td>Papier synthétique pour emballages cadeaux</td>\n",
       "    </tr>\n",
       "    <tr>\n",
       "      <th>2</th>\n",
       "      <td>KOMBINATION VON PHOTORAHMEN UND GLÜCKWUNSCHKARTE</td>\n",
       "      <td>PHOTOFRAME AND GIFT CARD COMBINATION</td>\n",
       "      <td>ENSEMBLE CADRE POUR PHOTOGRAPHIE ET CARTE</td>\n",
       "    </tr>\n",
       "    <tr>\n",
       "      <th>3</th>\n",
       "      <td>SYSTEM ZUM VERPACKEN, VERARBEITEN UND AKTIVIER...</td>\n",
       "      <td>SYSTEM FOR PACKAGING, PROCESSING, AND ACTIVATI...</td>\n",
       "      <td>SYSTÈME D'EMBALLAGE, DE TRAITEMENT ET D'ACTIVA...</td>\n",
       "    </tr>\n",
       "    <tr>\n",
       "      <th>4</th>\n",
       "      <td>VERFAHREN UND SYSTEM UM ELEKTRONISCH EIN ONLIN...</td>\n",
       "      <td>METHODS AND SYSTEMS FOR ELECTRONICALLY ACCEPTI...</td>\n",
       "      <td>PROCEDES ET SYSTEMES POUR ACCEPTER ET ECHANGER...</td>\n",
       "    </tr>\n",
       "  </tbody>\n",
       "</table>\n",
       "</div>"
      ],
      "text/plain": [
       "                                            title.de  \\\n",
       "0                             Faltbarer Geschenkkorb   \n",
       "1                       Synthetisches Geschenkpapier   \n",
       "2   KOMBINATION VON PHOTORAHMEN UND GLÜCKWUNSCHKARTE   \n",
       "3  SYSTEM ZUM VERPACKEN, VERARBEITEN UND AKTIVIER...   \n",
       "4  VERFAHREN UND SYSTEM UM ELEKTRONISCH EIN ONLIN...   \n",
       "\n",
       "                                            title.en  \\\n",
       "0                               Foldable gift basket   \n",
       "1                               Synthetic gift paper   \n",
       "2               PHOTOFRAME AND GIFT CARD COMBINATION   \n",
       "3  SYSTEM FOR PACKAGING, PROCESSING, AND ACTIVATI...   \n",
       "4  METHODS AND SYSTEMS FOR ELECTRONICALLY ACCEPTI...   \n",
       "\n",
       "                                            title.fr  \n",
       "0                        Panier pliable pour cadeaux  \n",
       "1         Papier synthétique pour emballages cadeaux  \n",
       "2          ENSEMBLE CADRE POUR PHOTOGRAPHIE ET CARTE  \n",
       "3  SYSTÈME D'EMBALLAGE, DE TRAITEMENT ET D'ACTIVA...  \n",
       "4  PROCEDES ET SYSTEMES POUR ACCEPTER ET ECHANGER...  "
      ]
     },
     "execution_count": 4,
     "metadata": {},
     "output_type": "execute_result"
    }
   ],
   "source": [
    "# searching for publications with the word GIFT only in the English title\n",
    "q = epab.query_title('gift', language=\"EN\")\n",
    "q.get_results(\"title\", limit=5, )"
   ]
  },
  {
   "cell_type": "markdown",
   "id": "74a814b2-6e54-4ba0-b7bf-437c8cd4fcf4",
   "metadata": {
    "jp-MarkdownHeadingCollapsed": true
   },
   "source": [
    "#### Refresher of query combination\n",
    "We saw in lesson 1 that we can combine queries to create more complex queries. Let's see if there are any publications that contain the word gift in both the German and English titles. "
   ]
  },
  {
   "cell_type": "code",
   "execution_count": 8,
   "id": "48d02dc4-718c-45f7-8ee6-79efae8599e6",
   "metadata": {},
   "outputs": [
    {
     "name": "stdout",
     "output_type": "stream",
     "text": [
      "publications with the word Gift in German 1520 publications\n",
      "Poisionus gifts found: 0 publications\n"
     ]
    }
   ],
   "source": [
    "# we get a second query with publications mentioning poison, in German\n",
    "r = epab.query_title('gift', language=\"DE\")\n",
    "print (f'publications with the word Gift in German', r)\n",
    "\n",
    "#combining the two queries\n",
    "s = q & r\n",
    "\n",
    "print (f'Poisionus gifts found:', s)"
   ]
  },
  {
   "cell_type": "markdown",
   "id": "e5169c66-0e04-400b-a19d-9ab53c542bcd",
   "metadata": {
    "jp-MarkdownHeadingCollapsed": true
   },
   "source": [
    "### Case sensitivity\n",
    "You have seen that we are querying in lowercase and the titles are displayed in all uppercase. It will come at no surprise that the search for full text terms is by default case insensitive. This can be overriden with `ignore_case=False`. Below we perform two queries with and without this parameter, to see the different results we get. "
   ]
  },
  {
   "cell_type": "code",
   "execution_count": 26,
   "id": "3cd2e3ea-1a26-4ec4-9091-63807559ee29",
   "metadata": {},
   "outputs": [
    {
     "name": "stdout",
     "output_type": "stream",
     "text": [
      "Publications with the word gift in any combination of lower and upper case 171 publications\n"
     ]
    },
    {
     "data": {
      "text/html": [
       "<div>\n",
       "<style scoped>\n",
       "    .dataframe tbody tr th:only-of-type {\n",
       "        vertical-align: middle;\n",
       "    }\n",
       "\n",
       "    .dataframe tbody tr th {\n",
       "        vertical-align: top;\n",
       "    }\n",
       "\n",
       "    .dataframe thead th {\n",
       "        text-align: right;\n",
       "    }\n",
       "</style>\n",
       "<table border=\"1\" class=\"dataframe\">\n",
       "  <thead>\n",
       "    <tr style=\"text-align: right;\">\n",
       "      <th></th>\n",
       "      <th>title.de</th>\n",
       "      <th>title.en</th>\n",
       "      <th>title.fr</th>\n",
       "    </tr>\n",
       "  </thead>\n",
       "  <tbody>\n",
       "    <tr>\n",
       "      <th>0</th>\n",
       "      <td>SYSTEME UND VERFAHREN ZUR AUSWAHL EINER DIGITA...</td>\n",
       "      <td>SYSTEMS AND METHODS FOR DIGITAL GIFT CARD SELE...</td>\n",
       "      <td>SYSTÈMES ET PROCÉDÉS DE SÉLECTION DE CARTE-CAD...</td>\n",
       "    </tr>\n",
       "    <tr>\n",
       "      <th>1</th>\n",
       "      <td>GESCHENKPACKUNG MIT SCHALTUNGSBETÄTIGUNGSVERMÖGEN</td>\n",
       "      <td>GIFT PACKAGE HAVING CIRCUIT ACTUATING CAPABILITY</td>\n",
       "      <td>EMBALLAGE CADEAU AYANT UNE CAPACITÉ D'ACTIONNE...</td>\n",
       "    </tr>\n",
       "    <tr>\n",
       "      <th>2</th>\n",
       "      <td>GESCHENKKARTONBEHÄLTER</td>\n",
       "      <td>GIFT BOX CONTAINER</td>\n",
       "      <td>PAQUET-CADEAU</td>\n",
       "    </tr>\n",
       "    <tr>\n",
       "      <th>3</th>\n",
       "      <td>Dekorative Geschenkverpackung</td>\n",
       "      <td>Decorative gift package</td>\n",
       "      <td>Emballage décoratif pour cadeau</td>\n",
       "    </tr>\n",
       "    <tr>\n",
       "      <th>4</th>\n",
       "      <td>Kombination von Geschenk und Verpackung, insbe...</td>\n",
       "      <td>A combination comprising a gift and its casing...</td>\n",
       "      <td>Combinaison d'un cadeau et de son emballage, e...</td>\n",
       "    </tr>\n",
       "  </tbody>\n",
       "</table>\n",
       "</div>"
      ],
      "text/plain": [
       "                                            title.de  \\\n",
       "0  SYSTEME UND VERFAHREN ZUR AUSWAHL EINER DIGITA...   \n",
       "1  GESCHENKPACKUNG MIT SCHALTUNGSBETÄTIGUNGSVERMÖGEN   \n",
       "2                             GESCHENKKARTONBEHÄLTER   \n",
       "3                      Dekorative Geschenkverpackung   \n",
       "4  Kombination von Geschenk und Verpackung, insbe...   \n",
       "\n",
       "                                            title.en  \\\n",
       "0  SYSTEMS AND METHODS FOR DIGITAL GIFT CARD SELE...   \n",
       "1   GIFT PACKAGE HAVING CIRCUIT ACTUATING CAPABILITY   \n",
       "2                                 GIFT BOX CONTAINER   \n",
       "3                            Decorative gift package   \n",
       "4  A combination comprising a gift and its casing...   \n",
       "\n",
       "                                            title.fr  \n",
       "0  SYSTÈMES ET PROCÉDÉS DE SÉLECTION DE CARTE-CAD...  \n",
       "1  EMBALLAGE CADEAU AYANT UNE CAPACITÉ D'ACTIONNE...  \n",
       "2                                      PAQUET-CADEAU  \n",
       "3                    Emballage décoratif pour cadeau  \n",
       "4  Combinaison d'un cadeau et de son emballage, e...  "
      ]
     },
     "execution_count": 26,
     "metadata": {},
     "output_type": "execute_result"
    }
   ],
   "source": [
    "# searching for publications with the word GIFT only in the English title ignoring case\n",
    "q = epab.query_title('gift', language=\"EN\")\n",
    "print (f'Publications with the word gift in any combination of lower and upper case', q)\n",
    "\n",
    "q.get_results('title', limit=5)\n",
    "\n",
    "\n"
   ]
  },
  {
   "cell_type": "code",
   "execution_count": 27,
   "id": "3858f2c1-25e1-419c-8c70-72d61e0605dc",
   "metadata": {},
   "outputs": [
    {
     "name": "stdout",
     "output_type": "stream",
     "text": [
      "Publications with the word gift in lowercase 46 publications\n"
     ]
    },
    {
     "data": {
      "text/html": [
       "<div>\n",
       "<style scoped>\n",
       "    .dataframe tbody tr th:only-of-type {\n",
       "        vertical-align: middle;\n",
       "    }\n",
       "\n",
       "    .dataframe tbody tr th {\n",
       "        vertical-align: top;\n",
       "    }\n",
       "\n",
       "    .dataframe thead th {\n",
       "        text-align: right;\n",
       "    }\n",
       "</style>\n",
       "<table border=\"1\" class=\"dataframe\">\n",
       "  <thead>\n",
       "    <tr style=\"text-align: right;\">\n",
       "      <th></th>\n",
       "      <th>title.de</th>\n",
       "      <th>title.en</th>\n",
       "      <th>title.fr</th>\n",
       "    </tr>\n",
       "  </thead>\n",
       "  <tbody>\n",
       "    <tr>\n",
       "      <th>0</th>\n",
       "      <td>Behälter für Geschenke</td>\n",
       "      <td>A container for gifts</td>\n",
       "      <td>Récipient pour cadeaux</td>\n",
       "    </tr>\n",
       "    <tr>\n",
       "      <th>1</th>\n",
       "      <td>Geschenkschachtel</td>\n",
       "      <td>Box for gift objects</td>\n",
       "      <td>Boîte à cadeaux</td>\n",
       "    </tr>\n",
       "    <tr>\n",
       "      <th>2</th>\n",
       "      <td>Netzsystem und Verfahren zur Bereitstellung vo...</td>\n",
       "      <td>Web system and method of providing personal gifts</td>\n",
       "      <td>Système Web et procédé de fourniture de cadeau...</td>\n",
       "    </tr>\n",
       "    <tr>\n",
       "      <th>3</th>\n",
       "      <td>Synthetisches Geschenkpapier</td>\n",
       "      <td>Synthetic gift paper</td>\n",
       "      <td>Papier synthétique pour emballages cadeaux</td>\n",
       "    </tr>\n",
       "    <tr>\n",
       "      <th>4</th>\n",
       "      <td>Geschenkschachtel</td>\n",
       "      <td>Box for gift objects</td>\n",
       "      <td>Boîte à cadeaux</td>\n",
       "    </tr>\n",
       "  </tbody>\n",
       "</table>\n",
       "</div>"
      ],
      "text/plain": [
       "                                            title.de  \\\n",
       "0                             Behälter für Geschenke   \n",
       "1                                  Geschenkschachtel   \n",
       "2  Netzsystem und Verfahren zur Bereitstellung vo...   \n",
       "3                       Synthetisches Geschenkpapier   \n",
       "4                                  Geschenkschachtel   \n",
       "\n",
       "                                            title.en  \\\n",
       "0                              A container for gifts   \n",
       "1                               Box for gift objects   \n",
       "2  Web system and method of providing personal gifts   \n",
       "3                               Synthetic gift paper   \n",
       "4                               Box for gift objects   \n",
       "\n",
       "                                            title.fr  \n",
       "0                             Récipient pour cadeaux  \n",
       "1                                    Boîte à cadeaux  \n",
       "2  Système Web et procédé de fourniture de cadeau...  \n",
       "3         Papier synthétique pour emballages cadeaux  \n",
       "4                                    Boîte à cadeaux  "
      ]
     },
     "execution_count": 27,
     "metadata": {},
     "output_type": "execute_result"
    }
   ],
   "source": [
    "# searching for publications with the word GIFT only in the English title forcing lowercase\n",
    "r = epab.query_title('gift', language=\"EN\", ignore_case=False)\n",
    "print (f'Publications with the word gift in lowercase', r)\n",
    "\n",
    "r.get_results('title', limit=5)"
   ]
  },
  {
   "cell_type": "markdown",
   "id": "fb0efe7d-c9e9-4089-a54b-ecb9ba3e078d",
   "metadata": {
    "jp-MarkdownHeadingCollapsed": true
   },
   "source": [
    "### Multiple search terms\n",
    "We can enter multiple search terms in the queries we run on EPAB by full text fields. When we enter multiple terms, by default these terms are combined with an `OR`"
   ]
  },
  {
   "cell_type": "code",
   "execution_count": 33,
   "id": "28b9770a-110f-47f8-a4eb-ec89563d245d",
   "metadata": {},
   "outputs": [
    {
     "name": "stdout",
     "output_type": "stream",
     "text": [
      "973 publications\n"
     ]
    },
    {
     "data": {
      "application/vnd.jupyter.widget-view+json": {
       "model_id": "881f714e7b604641ba8e295069fb26d9",
       "version_major": 2,
       "version_minor": 0
      },
      "text/plain": [
       "DataGrid(auto_fit_columns=True, auto_fit_params={'area': 'all', 'padding': 30, 'numCols': None}, corner_render…"
      ]
     },
     "execution_count": 33,
     "metadata": {},
     "output_type": "execute_result"
    }
   ],
   "source": [
    "# Searching a set of possible terms (e.g. synonyms)\n",
    "q = epab.query_title(search_terms=\"covid, corona virus, coronavirus\", language=\"EN\")\n",
    "print (q)\n",
    "q.get_results(\"title.en\", output_type=\"datagrid\", limit=10)"
   ]
  },
  {
   "cell_type": "markdown",
   "id": "d3c8194c-16da-4ae1-93ec-7f00fa478126",
   "metadata": {},
   "source": [
    "#### Multiple search terms combined with AND\n",
    "We can also query with several strings, and specify that they all should be present, with the `match_all` parameter."
   ]
  },
  {
   "cell_type": "code",
   "execution_count": 35,
   "id": "5f84e14c-a2d1-46c7-826a-95c2b21f55f1",
   "metadata": {},
   "outputs": [
    {
     "name": "stdout",
     "output_type": "stream",
     "text": [
      "139 publications\n"
     ]
    },
    {
     "data": {
      "text/html": [
       "<div>\n",
       "<style scoped>\n",
       "    .dataframe tbody tr th:only-of-type {\n",
       "        vertical-align: middle;\n",
       "    }\n",
       "\n",
       "    .dataframe tbody tr th {\n",
       "        vertical-align: top;\n",
       "    }\n",
       "\n",
       "    .dataframe thead th {\n",
       "        text-align: right;\n",
       "    }\n",
       "</style>\n",
       "<table border=\"1\" class=\"dataframe\">\n",
       "  <thead>\n",
       "    <tr style=\"text-align: right;\">\n",
       "      <th></th>\n",
       "      <th>title.en</th>\n",
       "    </tr>\n",
       "  </thead>\n",
       "  <tbody>\n",
       "    <tr>\n",
       "      <th>0</th>\n",
       "      <td>A DNA PLASMID SARS-CORONAVIRUS-2/COVID-19 VACCINE</td>\n",
       "    </tr>\n",
       "    <tr>\n",
       "      <th>1</th>\n",
       "      <td>CANINE CORONAVIRUS VACCINE</td>\n",
       "    </tr>\n",
       "    <tr>\n",
       "      <th>2</th>\n",
       "      <td>Coronavirus, nucleic acid, protein and methods...</td>\n",
       "    </tr>\n",
       "    <tr>\n",
       "      <th>3</th>\n",
       "      <td>CANINE CORONAVIRUS VACCINE</td>\n",
       "    </tr>\n",
       "    <tr>\n",
       "      <th>4</th>\n",
       "      <td>Canine coronavirus vaccine from feline enteric...</td>\n",
       "    </tr>\n",
       "  </tbody>\n",
       "</table>\n",
       "</div>"
      ],
      "text/plain": [
       "                                            title.en\n",
       "0  A DNA PLASMID SARS-CORONAVIRUS-2/COVID-19 VACCINE\n",
       "1                         CANINE CORONAVIRUS VACCINE\n",
       "2  Coronavirus, nucleic acid, protein and methods...\n",
       "3                         CANINE CORONAVIRUS VACCINE\n",
       "4  Canine coronavirus vaccine from feline enteric..."
      ]
     },
     "execution_count": 35,
     "metadata": {},
     "output_type": "execute_result"
    }
   ],
   "source": [
    "# We can also look for having multiple terms in the same title\n",
    "q = epab.query_title(search_terms=\"coronavirus, vaccine\", match_all=True, language=\"EN\")\n",
    "print(q)\n",
    "q.get_results(\"title.en\", limit=5)"
   ]
  },
  {
   "cell_type": "markdown",
   "id": "c2d97d89-0893-4297-869b-947e998330a2",
   "metadata": {},
   "source": [
    "#### Multiple search terms with advanced combinations\n",
    "What if you want to mix `AND` with `OR` with the combinations of terms? Combining queries comes in handy for this case. "
   ]
  },
  {
   "cell_type": "code",
   "execution_count": 39,
   "id": "781a8673-4996-431b-a327-415cf4b507a2",
   "metadata": {},
   "outputs": [
    {
     "data": {
      "text/html": [
       "<div>\n",
       "<style scoped>\n",
       "    .dataframe tbody tr th:only-of-type {\n",
       "        vertical-align: middle;\n",
       "    }\n",
       "\n",
       "    .dataframe tbody tr th {\n",
       "        vertical-align: top;\n",
       "    }\n",
       "\n",
       "    .dataframe thead th {\n",
       "        text-align: right;\n",
       "    }\n",
       "</style>\n",
       "<table border=\"1\" class=\"dataframe\">\n",
       "  <thead>\n",
       "    <tr style=\"text-align: right;\">\n",
       "      <th></th>\n",
       "      <th>title.en</th>\n",
       "    </tr>\n",
       "  </thead>\n",
       "  <tbody>\n",
       "    <tr>\n",
       "      <th>0</th>\n",
       "      <td>VACCINE COMPOSITION AGAINST CORONAVIRUS</td>\n",
       "    </tr>\n",
       "    <tr>\n",
       "      <th>1</th>\n",
       "      <td>VACCINE AGAINST HUMAN-PATHOGENIC CORONAVIRUSES</td>\n",
       "    </tr>\n",
       "    <tr>\n",
       "      <th>2</th>\n",
       "      <td>VACCINE COMPOSITIONS FOR TREATING CORONAVIRUS ...</td>\n",
       "    </tr>\n",
       "    <tr>\n",
       "      <th>3</th>\n",
       "      <td>VACCINES AGAINST CORONAVIRUS AND METHODS OF USE</td>\n",
       "    </tr>\n",
       "    <tr>\n",
       "      <th>4</th>\n",
       "      <td>VACCINES AGAINST CORONAVIRUS AND METHODS OF USE</td>\n",
       "    </tr>\n",
       "    <tr>\n",
       "      <th>5</th>\n",
       "      <td>VACCINES AGAINST SARS-COV-2 AND OTHER CORONAVI...</td>\n",
       "    </tr>\n",
       "    <tr>\n",
       "      <th>6</th>\n",
       "      <td>VACCINE COMPOSITIONS FOR THE TREATMENT OF CORO...</td>\n",
       "    </tr>\n",
       "    <tr>\n",
       "      <th>7</th>\n",
       "      <td>Vaccine against severe accute respiratory synd...</td>\n",
       "    </tr>\n",
       "    <tr>\n",
       "      <th>8</th>\n",
       "      <td>VACCINE WITH IMPROVED IMMUNOGENICITY AGAINST M...</td>\n",
       "    </tr>\n",
       "    <tr>\n",
       "      <th>9</th>\n",
       "      <td>VACCINE COMPOSITION FOR PREVENTING SEVERE ACUT...</td>\n",
       "    </tr>\n",
       "  </tbody>\n",
       "</table>\n",
       "</div>"
      ],
      "text/plain": [
       "                                            title.en\n",
       "0            VACCINE COMPOSITION AGAINST CORONAVIRUS\n",
       "1     VACCINE AGAINST HUMAN-PATHOGENIC CORONAVIRUSES\n",
       "2  VACCINE COMPOSITIONS FOR TREATING CORONAVIRUS ...\n",
       "3    VACCINES AGAINST CORONAVIRUS AND METHODS OF USE\n",
       "4    VACCINES AGAINST CORONAVIRUS AND METHODS OF USE\n",
       "5  VACCINES AGAINST SARS-COV-2 AND OTHER CORONAVI...\n",
       "6  VACCINE COMPOSITIONS FOR THE TREATMENT OF CORO...\n",
       "7  Vaccine against severe accute respiratory synd...\n",
       "8  VACCINE WITH IMPROVED IMMUNOGENICITY AGAINST M...\n",
       "9  VACCINE COMPOSITION FOR PREVENTING SEVERE ACUT..."
      ]
     },
     "execution_count": 39,
     "metadata": {},
     "output_type": "execute_result"
    }
   ],
   "source": [
    "# searching for synonims of Covid \n",
    "q = epab.query_title(search_terms=\"covid, corona virus, coronavirus\", language=\"EN\")\n",
    "\n",
    "# searching for synonims of vaccine\n",
    "r = epab.query_title(search_terms=\"vaccine%, inmun%\", language=\"EN\")\n",
    "\n",
    "s = q & r\n",
    "\n",
    "s.get_results('title.en', limit = 10)"
   ]
  },
  {
   "cell_type": "markdown",
   "id": "44a4e260-487d-4e83-a69c-a9eb100a9e4b",
   "metadata": {
    "jp-MarkdownHeadingCollapsed": true
   },
   "source": [
    "### Querying abstract, claims and description\n",
    "You can query other parts of the fulltext such as the claims, the abstract, and the description with the same methods, obviously changing the part of the fulltext in the method nomenclature. "
   ]
  },
  {
   "cell_type": "code",
   "execution_count": 44,
   "id": "9c503bcd-bf09-4ffe-a596-bbc3707a2cc3",
   "metadata": {},
   "outputs": [
    {
     "name": "stdout",
     "output_type": "stream",
     "text": [
      "1410 publications\n"
     ]
    },
    {
     "data": {
      "text/plain": [
       "[{'abstract': {'language': 'EN',\n",
       "   'text': '<p id=\"pa01\" num=\"0001\">A radio base station according to the present invention comprising : a mobile communication system, a relay node and a radio base station are connected via a radio bearer, a mobile station is configured to conduct a handover process between the state in which a radio bearer is set with the relay node in order to communicate via the relay node and the radio base station, and the state in which a radio bearer is set with the radio base station in order to communicate via the radio base station, and the mobile station is configured such that during the handover process, control signals involved in the handover process are sent and received via a radio bearer between the relay node and the radio base station.<img id=\"iaf01\" file=\"imgaf001.tif\" wi=\"119\" he=\"83\" img-content=\"drawing\" img-format=\"tif\"/></p>'}},\n",
       " {'abstract': {'language': 'EN',\n",
       "   'text': '<p id=\"pa01\" num=\"0001\">A radio base station according to the present invention comprising : a mobile communication system, a relay node and a first radio base station are connected via a radio bearer, the first radio base station and a second radio base station are connected, a mobile station is configured to perform a handover process between a state in which a radio bearer is set with the relay node so as to communicate via the relay node and the first radio base station, and a state in which a radio bearer is set with the second radio base station so as to communicate via the second radio base station, and the handover process is configured such that a radio bearer is set between the relay node and the second radio base station, and the control signals involved in the handover process are sent and received via the radio bearer that has been set between the relay node and the second radio base station.<img id=\"iaf01\" file=\"imgaf001.tif\" wi=\"127\" he=\"75\" img-content=\"drawing\" img-format=\"tif\"/></p>'}}]"
      ]
     },
     "execution_count": 44,
     "metadata": {},
     "output_type": "execute_result"
    }
   ],
   "source": [
    "# abstract search\n",
    "q = epab.query_abstract(search_terms=\"handover, base station\", match_all=True, ignore_case=True)\n",
    "print(q)\n",
    "q.get_results(\"abstract\", output_type=\"list\", limit=2)"
   ]
  },
  {
   "cell_type": "markdown",
   "id": "a4d7457e-f437-49b3-851e-2d5a27b88991",
   "metadata": {},
   "source": [
    "## Retrieving statistics from a query\n",
    "Sometimes you will want to get statistics over the results of a query, before further processing it. The method `get_stats` returns a dataframe with the statistics over one or more selected fields. when you run this method on a query object, for the selected field(s) you will get the following information. \n",
    "\n",
    "- the `count` column reports the total number of occurrences of the corresponding field(s) value\n",
    "- the `unique_publications` column reports the number of unique publications having that value\n",
    "- the last two lines of the table are used to report the remainder and the total\n",
    "\n",
    "### Statistics on patents about wireless communication networks\n",
    "Let's look at an example. We will make a query for publications in the field of wireless communication networks, grouped in the CPC under H04W"
   ]
  },
  {
   "cell_type": "code",
   "execution_count": 8,
   "id": "5291f3c3-f834-47f3-a11c-26ca1b1d30b6",
   "metadata": {},
   "outputs": [
    {
     "data": {
      "text/plain": [
       "139 publications"
      ]
     },
     "execution_count": 8,
     "metadata": {},
     "output_type": "execute_result"
    }
   ],
   "source": [
    "# Running a query for all publications with CPC symbols starting with H04W\n",
    "q = epab.query_ipc(\"H04W%\")\n",
    "q"
   ]
  },
  {
   "cell_type": "code",
   "execution_count": 9,
   "id": "bac8f0f6-aade-4fea-913e-f27ed207675a",
   "metadata": {},
   "outputs": [
    {
     "data": {
      "text/html": [
       "<div>\n",
       "<style scoped>\n",
       "    .dataframe tbody tr th:only-of-type {\n",
       "        vertical-align: middle;\n",
       "    }\n",
       "\n",
       "    .dataframe tbody tr th {\n",
       "        vertical-align: top;\n",
       "    }\n",
       "\n",
       "    .dataframe thead th {\n",
       "        text-align: right;\n",
       "    }\n",
       "</style>\n",
       "<table border=\"1\" class=\"dataframe\">\n",
       "  <thead>\n",
       "    <tr style=\"text-align: right;\">\n",
       "      <th></th>\n",
       "      <th>inventor.country</th>\n",
       "      <th>count</th>\n",
       "      <th>unique_publications</th>\n",
       "    </tr>\n",
       "  </thead>\n",
       "  <tbody>\n",
       "    <tr>\n",
       "      <th>0</th>\n",
       "      <td>KR</td>\n",
       "      <td>89.0</td>\n",
       "      <td>22.0</td>\n",
       "    </tr>\n",
       "    <tr>\n",
       "      <th>1</th>\n",
       "      <td>US</td>\n",
       "      <td>86.0</td>\n",
       "      <td>24.0</td>\n",
       "    </tr>\n",
       "    <tr>\n",
       "      <th>2</th>\n",
       "      <td>CN</td>\n",
       "      <td>67.0</td>\n",
       "      <td>26.0</td>\n",
       "    </tr>\n",
       "    <tr>\n",
       "      <th>3</th>\n",
       "      <td>JP</td>\n",
       "      <td>53.0</td>\n",
       "      <td>19.0</td>\n",
       "    </tr>\n",
       "    <tr>\n",
       "      <th>4</th>\n",
       "      <td>DE</td>\n",
       "      <td>33.0</td>\n",
       "      <td>14.0</td>\n",
       "    </tr>\n",
       "    <tr>\n",
       "      <th>5</th>\n",
       "      <td>CA</td>\n",
       "      <td>26.0</td>\n",
       "      <td>8.0</td>\n",
       "    </tr>\n",
       "    <tr>\n",
       "      <th>6</th>\n",
       "      <td>SE</td>\n",
       "      <td>25.0</td>\n",
       "      <td>8.0</td>\n",
       "    </tr>\n",
       "    <tr>\n",
       "      <th>7</th>\n",
       "      <td>FI</td>\n",
       "      <td>16.0</td>\n",
       "      <td>7.0</td>\n",
       "    </tr>\n",
       "    <tr>\n",
       "      <th>8</th>\n",
       "      <td>ES</td>\n",
       "      <td>11.0</td>\n",
       "      <td>5.0</td>\n",
       "    </tr>\n",
       "    <tr>\n",
       "      <th>9</th>\n",
       "      <td>IN</td>\n",
       "      <td>7.0</td>\n",
       "      <td>2.0</td>\n",
       "    </tr>\n",
       "    <tr>\n",
       "      <th>10</th>\n",
       "      <td>GB</td>\n",
       "      <td>6.0</td>\n",
       "      <td>4.0</td>\n",
       "    </tr>\n",
       "    <tr>\n",
       "      <th>11</th>\n",
       "      <td>TW</td>\n",
       "      <td>6.0</td>\n",
       "      <td>3.0</td>\n",
       "    </tr>\n",
       "    <tr>\n",
       "      <th>12</th>\n",
       "      <td>IT</td>\n",
       "      <td>5.0</td>\n",
       "      <td>2.0</td>\n",
       "    </tr>\n",
       "    <tr>\n",
       "      <th>13</th>\n",
       "      <td>FR</td>\n",
       "      <td>5.0</td>\n",
       "      <td>2.0</td>\n",
       "    </tr>\n",
       "    <tr>\n",
       "      <th>14</th>\n",
       "      <td>EG</td>\n",
       "      <td>4.0</td>\n",
       "      <td>1.0</td>\n",
       "    </tr>\n",
       "    <tr>\n",
       "      <th>15</th>\n",
       "      <td>AT</td>\n",
       "      <td>3.0</td>\n",
       "      <td>3.0</td>\n",
       "    </tr>\n",
       "    <tr>\n",
       "      <th>16</th>\n",
       "      <td>DK</td>\n",
       "      <td>3.0</td>\n",
       "      <td>1.0</td>\n",
       "    </tr>\n",
       "    <tr>\n",
       "      <th>17</th>\n",
       "      <td>SG</td>\n",
       "      <td>3.0</td>\n",
       "      <td>1.0</td>\n",
       "    </tr>\n",
       "    <tr>\n",
       "      <th>18</th>\n",
       "      <td>TR</td>\n",
       "      <td>3.0</td>\n",
       "      <td>1.0</td>\n",
       "    </tr>\n",
       "    <tr>\n",
       "      <th>19</th>\n",
       "      <td>CH</td>\n",
       "      <td>2.0</td>\n",
       "      <td>2.0</td>\n",
       "    </tr>\n",
       "    <tr>\n",
       "      <th>20</th>\n",
       "      <td>IL</td>\n",
       "      <td>1.0</td>\n",
       "      <td>1.0</td>\n",
       "    </tr>\n",
       "    <tr>\n",
       "      <th>21</th>\n",
       "      <td>NL</td>\n",
       "      <td>1.0</td>\n",
       "      <td>1.0</td>\n",
       "    </tr>\n",
       "    <tr>\n",
       "      <th>22</th>\n",
       "      <td>AE</td>\n",
       "      <td>1.0</td>\n",
       "      <td>1.0</td>\n",
       "    </tr>\n",
       "    <tr>\n",
       "      <th>23</th>\n",
       "      <td>CZ</td>\n",
       "      <td>1.0</td>\n",
       "      <td>1.0</td>\n",
       "    </tr>\n",
       "    <tr>\n",
       "      <th>Total</th>\n",
       "      <td>*</td>\n",
       "      <td>457.0</td>\n",
       "      <td>159.0</td>\n",
       "    </tr>\n",
       "  </tbody>\n",
       "</table>\n",
       "</div>"
      ],
      "text/plain": [
       "      inventor.country  count  unique_publications\n",
       "0                   KR   89.0                 22.0\n",
       "1                   US   86.0                 24.0\n",
       "2                   CN   67.0                 26.0\n",
       "3                   JP   53.0                 19.0\n",
       "4                   DE   33.0                 14.0\n",
       "5                   CA   26.0                  8.0\n",
       "6                   SE   25.0                  8.0\n",
       "7                   FI   16.0                  7.0\n",
       "8                   ES   11.0                  5.0\n",
       "9                   IN    7.0                  2.0\n",
       "10                  GB    6.0                  4.0\n",
       "11                  TW    6.0                  3.0\n",
       "12                  IT    5.0                  2.0\n",
       "13                  FR    5.0                  2.0\n",
       "14                  EG    4.0                  1.0\n",
       "15                  AT    3.0                  3.0\n",
       "16                  DK    3.0                  1.0\n",
       "17                  SG    3.0                  1.0\n",
       "18                  TR    3.0                  1.0\n",
       "19                  CH    2.0                  2.0\n",
       "20                  IL    1.0                  1.0\n",
       "21                  NL    1.0                  1.0\n",
       "22                  AE    1.0                  1.0\n",
       "23                  CZ    1.0                  1.0\n",
       "Total                *  457.0                159.0"
      ]
     },
     "execution_count": 9,
     "metadata": {},
     "output_type": "execute_result"
    }
   ],
   "source": [
    "# We want to see the distribution of the countries where the inventors mentioned in the publications resulting from the query live\n",
    "q.get_stats(\"inventor.country\")"
   ]
  },
  {
   "cell_type": "markdown",
   "id": "2f43e401-413f-41d4-bc2b-3c592f69a3f1",
   "metadata": {},
   "source": [
    "Notice that the total number of unique publications corresponds with the size of the query result, which makes sense. You can also see that there are more inventors than publications. This happens because typically one application lists more than one inventor. We can also see what applicants are most active in the field of wireless communication networks"
   ]
  },
  {
   "cell_type": "code",
   "execution_count": 10,
   "id": "46c99ff9-92d9-4353-9c32-fa17e09a55a1",
   "metadata": {},
   "outputs": [
    {
     "data": {
      "text/html": [
       "<div>\n",
       "<style scoped>\n",
       "    .dataframe tbody tr th:only-of-type {\n",
       "        vertical-align: middle;\n",
       "    }\n",
       "\n",
       "    .dataframe tbody tr th {\n",
       "        vertical-align: top;\n",
       "    }\n",
       "\n",
       "    .dataframe thead th {\n",
       "        text-align: right;\n",
       "    }\n",
       "</style>\n",
       "<table border=\"1\" class=\"dataframe\">\n",
       "  <thead>\n",
       "    <tr style=\"text-align: right;\">\n",
       "      <th></th>\n",
       "      <th>applicant.name</th>\n",
       "      <th>count</th>\n",
       "      <th>unique_publications</th>\n",
       "    </tr>\n",
       "  </thead>\n",
       "  <tbody>\n",
       "    <tr>\n",
       "      <th>0</th>\n",
       "      <td>Samsung Electronics Co., Ltd.</td>\n",
       "      <td>11.0</td>\n",
       "      <td>11.0</td>\n",
       "    </tr>\n",
       "    <tr>\n",
       "      <th>1</th>\n",
       "      <td>Huawei Technologies Co., Ltd.</td>\n",
       "      <td>11.0</td>\n",
       "      <td>11.0</td>\n",
       "    </tr>\n",
       "    <tr>\n",
       "      <th>2</th>\n",
       "      <td>LG Electronics Inc.</td>\n",
       "      <td>8.0</td>\n",
       "      <td>8.0</td>\n",
       "    </tr>\n",
       "    <tr>\n",
       "      <th>3</th>\n",
       "      <td>Telefonaktiebolaget LM Ericsson (publ)</td>\n",
       "      <td>6.0</td>\n",
       "      <td>5.0</td>\n",
       "    </tr>\n",
       "    <tr>\n",
       "      <th>4</th>\n",
       "      <td>Nokia Technologies Oy</td>\n",
       "      <td>4.0</td>\n",
       "      <td>4.0</td>\n",
       "    </tr>\n",
       "    <tr>\n",
       "      <th>...</th>\n",
       "      <td>...</td>\n",
       "      <td>...</td>\n",
       "      <td>...</td>\n",
       "    </tr>\n",
       "    <tr>\n",
       "      <th>92</th>\n",
       "      <td>NTT DoCoMo, Inc.</td>\n",
       "      <td>1.0</td>\n",
       "      <td>1.0</td>\n",
       "    </tr>\n",
       "    <tr>\n",
       "      <th>93</th>\n",
       "      <td>MITSUBISHI DENKI KABUSHIKI KAISHA</td>\n",
       "      <td>1.0</td>\n",
       "      <td>1.0</td>\n",
       "    </tr>\n",
       "    <tr>\n",
       "      <th>94</th>\n",
       "      <td>EADS Secure Networks Oy</td>\n",
       "      <td>1.0</td>\n",
       "      <td>1.0</td>\n",
       "    </tr>\n",
       "    <tr>\n",
       "      <th>95</th>\n",
       "      <td>AT&amp;E CORPORATION</td>\n",
       "      <td>1.0</td>\n",
       "      <td>1.0</td>\n",
       "    </tr>\n",
       "    <tr>\n",
       "      <th>Total</th>\n",
       "      <td>*</td>\n",
       "      <td>150.0</td>\n",
       "      <td>149.0</td>\n",
       "    </tr>\n",
       "  </tbody>\n",
       "</table>\n",
       "<p>97 rows × 3 columns</p>\n",
       "</div>"
      ],
      "text/plain": [
       "                               applicant.name  count  unique_publications\n",
       "0               Samsung Electronics Co., Ltd.   11.0                 11.0\n",
       "1               Huawei Technologies Co., Ltd.   11.0                 11.0\n",
       "2                         LG Electronics Inc.    8.0                  8.0\n",
       "3      Telefonaktiebolaget LM Ericsson (publ)    6.0                  5.0\n",
       "4                       Nokia Technologies Oy    4.0                  4.0\n",
       "...                                       ...    ...                  ...\n",
       "92                           NTT DoCoMo, Inc.    1.0                  1.0\n",
       "93          MITSUBISHI DENKI KABUSHIKI KAISHA    1.0                  1.0\n",
       "94                    EADS Secure Networks Oy    1.0                  1.0\n",
       "95                           AT&E CORPORATION    1.0                  1.0\n",
       "Total                                       *  150.0                149.0\n",
       "\n",
       "[97 rows x 3 columns]"
      ]
     },
     "execution_count": 10,
     "metadata": {},
     "output_type": "execute_result"
    }
   ],
   "source": [
    "# We want to see the distribution of the countries where the inventors mentioned in the publications resulting from the query live\n",
    "q.get_stats(\"applicant.name\")"
   ]
  },
  {
   "cell_type": "markdown",
   "id": "a77f9626-9b35-4382-81f7-4d9a2c1ddf56",
   "metadata": {},
   "source": [
    "Again remember that a patent application can name more than one applicant, so it is possible that the sum of the `count` field will be higher than the sum of the `unique_publications` field."
   ]
  },
  {
   "cell_type": "markdown",
   "id": "fbfabe5e-60c6-42e8-8e07-f8752fb215f8",
   "metadata": {},
   "source": []
  }
 ],
 "metadata": {
  "kernelspec": {
   "display_name": "Python 3 (ipykernel)",
   "language": "python",
   "name": "python3"
  },
  "language_info": {
   "codemirror_mode": {
    "name": "ipython",
    "version": 3
   },
   "file_extension": ".py",
   "mimetype": "text/x-python",
   "name": "python",
   "nbconvert_exporter": "python",
   "pygments_lexer": "ipython3",
   "version": "3.11.8"
  }
 },
 "nbformat": 4,
 "nbformat_minor": 5
}
